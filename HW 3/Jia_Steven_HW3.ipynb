{
  "nbformat": 4,
  "nbformat_minor": 0,
  "metadata": {
    "colab": {
      "provenance": []
    },
    "kernelspec": {
      "name": "python3",
      "display_name": "Python 3"
    },
    "language_info": {
      "name": "python"
    }
  },
  "cells": [
    {
      "cell_type": "markdown",
      "source": [
        "# HW 3\n",
        "\n",
        "By Steven Jia"
      ],
      "metadata": {
        "id": "-8C2Tjs1_oGk"
      }
    },
    {
      "cell_type": "markdown",
      "source": [
        "# 1. SCAD Regression\n",
        "\n",
        " Create your own PyTorch class that implements the method of SCAD regularization and variable selection (smoothly clipped absolute deviations) for linear models."
      ],
      "metadata": {
        "id": "Z3gLVFkO_qaO"
      }
    },
    {
      "cell_type": "code",
      "execution_count": 81,
      "metadata": {
        "id": "Ai-RI9cv_Rn_"
      },
      "outputs": [],
      "source": [
        "import torch # we are going to use pytorch instead of numpy because it's much faster.\n",
        "import torch.nn as nn\n",
        "import torch.optim as optim\n",
        "import pandas as pd\n",
        "from sklearn.preprocessing import MinMaxScaler\n",
        "from sklearn.model_selection import KFold"
      ]
    },
    {
      "cell_type": "code",
      "source": [
        "device = torch.device(\"cpu\")\n",
        "dtype = torch.float64"
      ],
      "metadata": {
        "id": "klEAxP8ZBzVM"
      },
      "execution_count": 2,
      "outputs": []
    },
    {
      "cell_type": "code",
      "source": [
        "class SCAD(nn.Module):\n",
        "    def __init__(self, input_size, alpha=0.5, lambda_val=0.5, report_epoch = False):\n",
        "        super().__init__()\n",
        "        self.input_size = input_size\n",
        "        self.alpha = alpha\n",
        "        self.lambda_val = lambda_val\n",
        "        self.report_epoch = report_epoch\n",
        "\n",
        "        # Define the linear regression layer\n",
        "        self.linear = nn.Linear(input_size, 1,bias=False,device=device,dtype=dtype)\n",
        "\n",
        "    def forward(self, x):\n",
        "        return self.linear(x)\n",
        "\n",
        "    def scad_penalty(self, beta_hat, a_val, lambda_val):\n",
        "        is_linear = (torch.abs(beta_hat) <= lambda_val)\n",
        "        is_quadratic = torch.logical_and(lambda_val < torch.abs(beta_hat), torch.abs(beta_hat) <= a_val * lambda_val)\n",
        "        is_constant = (a_val * lambda_val) < torch.abs(beta_hat)\n",
        "\n",
        "        linear_part = lambda_val * torch.abs(beta_hat) * is_linear\n",
        "        quadratic_part = (2 * a_val * lambda_val * torch.abs(beta_hat) - beta_hat**2 - lambda_val**2) / (2 * (a_val - 1)) * is_quadratic\n",
        "        constant_part = (lambda_val**2 * (a_val + 1)) / 2 * is_constant\n",
        "        return linear_part + quadratic_part + constant_part\n",
        "\n",
        "    def loss(self, y_pred, y_true):\n",
        "        mse_loss = nn.MSELoss()(y_pred, y_true)\n",
        "\n",
        "        SCAD_loss = self.scad_penalty(self.linear.weight, self.alpha, self.lambda_val)\n",
        "\n",
        "        loss = mse_loss + torch.sum(SCAD_loss)\n",
        "        return loss\n",
        "\n",
        "    def fit(self, X, y, num_epochs=100, learning_rate=0.01):\n",
        "        # print(y.shape())\n",
        "        optimizer = optim.SGD(self.parameters(), lr=learning_rate)\n",
        "\n",
        "        for epoch in range(num_epochs):\n",
        "            self.train()\n",
        "            optimizer.zero_grad() # reset gradient\n",
        "            y_pred = self(X)\n",
        "            loss = self.loss(y_pred, y)\n",
        "            loss.backward() # backpropogation\n",
        "            optimizer.step() # update weights\n",
        "\n",
        "            # print progress every 10 steps\n",
        "            if (epoch + 1) % 10 == 0 and self.report_epoch:\n",
        "                print(f\"Epoch [{epoch + 1}/{num_epochs}], Loss: {loss.item()}\")\n",
        "\n",
        "    def predict(self, X):\n",
        "        self.eval()\n",
        "        with torch.no_grad():\n",
        "            y_pred = self(X)\n",
        "        return y_pred\n",
        "    def get_coefficients(self):\n",
        "        return self.linear.weight\n"
      ],
      "metadata": {
        "id": "DoXeQS7jB1fc"
      },
      "execution_count": 318,
      "outputs": []
    },
    {
      "cell_type": "markdown",
      "source": [
        "### Testing my SCAD implementation on a real data set"
      ],
      "metadata": {
        "id": "NRY-Zd3VBDVN"
      }
    },
    {
      "cell_type": "code",
      "source": [
        "from google.colab import drive\n",
        "drive.mount('/content/drive')"
      ],
      "metadata": {
        "colab": {
          "base_uri": "https://localhost:8080/"
        },
        "id": "TIgqpO8eAtUb",
        "outputId": "906c3acf-df29-4347-c3fd-7898a7e5bacc"
      },
      "execution_count": 4,
      "outputs": [
        {
          "output_type": "stream",
          "name": "stdout",
          "text": [
            "Mounted at /content/drive\n"
          ]
        }
      ]
    },
    {
      "cell_type": "code",
      "source": [
        "data = pd.read_csv('/content/drive/MyDrive/Colab Notebooks/DATA 441/concrete.csv')"
      ],
      "metadata": {
        "id": "Iw6JtAZOA3IH"
      },
      "execution_count": 7,
      "outputs": []
    },
    {
      "cell_type": "code",
      "source": [
        "data"
      ],
      "metadata": {
        "colab": {
          "base_uri": "https://localhost:8080/",
          "height": 423
        },
        "id": "DsC_GsZpA7qY",
        "outputId": "3eec4d33-2b7a-46b9-eb22-c53a11e8c79c"
      },
      "execution_count": 8,
      "outputs": [
        {
          "output_type": "execute_result",
          "data": {
            "text/plain": [
              "      cement   slag    ash  water  superplastic  coarseagg  fineagg  age  \\\n",
              "0      540.0    0.0    0.0  162.0           2.5     1040.0    676.0   28   \n",
              "1      540.0    0.0    0.0  162.0           2.5     1055.0    676.0   28   \n",
              "2      332.5  142.5    0.0  228.0           0.0      932.0    594.0  270   \n",
              "3      332.5  142.5    0.0  228.0           0.0      932.0    594.0  365   \n",
              "4      198.6  132.4    0.0  192.0           0.0      978.4    825.5  360   \n",
              "...      ...    ...    ...    ...           ...        ...      ...  ...   \n",
              "1025   276.4  116.0   90.3  179.6           8.9      870.1    768.3   28   \n",
              "1026   322.2    0.0  115.6  196.0          10.4      817.9    813.4   28   \n",
              "1027   148.5  139.4  108.6  192.7           6.1      892.4    780.0   28   \n",
              "1028   159.1  186.7    0.0  175.6          11.3      989.6    788.9   28   \n",
              "1029   260.9  100.5   78.3  200.6           8.6      864.5    761.5   28   \n",
              "\n",
              "      strength  \n",
              "0        79.99  \n",
              "1        61.89  \n",
              "2        40.27  \n",
              "3        41.05  \n",
              "4        44.30  \n",
              "...        ...  \n",
              "1025     44.28  \n",
              "1026     31.18  \n",
              "1027     23.70  \n",
              "1028     32.77  \n",
              "1029     32.40  \n",
              "\n",
              "[1030 rows x 9 columns]"
            ],
            "text/html": [
              "\n",
              "  <div id=\"df-3aae9211-91b6-48c0-9e17-15bd914b0ff2\" class=\"colab-df-container\">\n",
              "    <div>\n",
              "<style scoped>\n",
              "    .dataframe tbody tr th:only-of-type {\n",
              "        vertical-align: middle;\n",
              "    }\n",
              "\n",
              "    .dataframe tbody tr th {\n",
              "        vertical-align: top;\n",
              "    }\n",
              "\n",
              "    .dataframe thead th {\n",
              "        text-align: right;\n",
              "    }\n",
              "</style>\n",
              "<table border=\"1\" class=\"dataframe\">\n",
              "  <thead>\n",
              "    <tr style=\"text-align: right;\">\n",
              "      <th></th>\n",
              "      <th>cement</th>\n",
              "      <th>slag</th>\n",
              "      <th>ash</th>\n",
              "      <th>water</th>\n",
              "      <th>superplastic</th>\n",
              "      <th>coarseagg</th>\n",
              "      <th>fineagg</th>\n",
              "      <th>age</th>\n",
              "      <th>strength</th>\n",
              "    </tr>\n",
              "  </thead>\n",
              "  <tbody>\n",
              "    <tr>\n",
              "      <th>0</th>\n",
              "      <td>540.0</td>\n",
              "      <td>0.0</td>\n",
              "      <td>0.0</td>\n",
              "      <td>162.0</td>\n",
              "      <td>2.5</td>\n",
              "      <td>1040.0</td>\n",
              "      <td>676.0</td>\n",
              "      <td>28</td>\n",
              "      <td>79.99</td>\n",
              "    </tr>\n",
              "    <tr>\n",
              "      <th>1</th>\n",
              "      <td>540.0</td>\n",
              "      <td>0.0</td>\n",
              "      <td>0.0</td>\n",
              "      <td>162.0</td>\n",
              "      <td>2.5</td>\n",
              "      <td>1055.0</td>\n",
              "      <td>676.0</td>\n",
              "      <td>28</td>\n",
              "      <td>61.89</td>\n",
              "    </tr>\n",
              "    <tr>\n",
              "      <th>2</th>\n",
              "      <td>332.5</td>\n",
              "      <td>142.5</td>\n",
              "      <td>0.0</td>\n",
              "      <td>228.0</td>\n",
              "      <td>0.0</td>\n",
              "      <td>932.0</td>\n",
              "      <td>594.0</td>\n",
              "      <td>270</td>\n",
              "      <td>40.27</td>\n",
              "    </tr>\n",
              "    <tr>\n",
              "      <th>3</th>\n",
              "      <td>332.5</td>\n",
              "      <td>142.5</td>\n",
              "      <td>0.0</td>\n",
              "      <td>228.0</td>\n",
              "      <td>0.0</td>\n",
              "      <td>932.0</td>\n",
              "      <td>594.0</td>\n",
              "      <td>365</td>\n",
              "      <td>41.05</td>\n",
              "    </tr>\n",
              "    <tr>\n",
              "      <th>4</th>\n",
              "      <td>198.6</td>\n",
              "      <td>132.4</td>\n",
              "      <td>0.0</td>\n",
              "      <td>192.0</td>\n",
              "      <td>0.0</td>\n",
              "      <td>978.4</td>\n",
              "      <td>825.5</td>\n",
              "      <td>360</td>\n",
              "      <td>44.30</td>\n",
              "    </tr>\n",
              "    <tr>\n",
              "      <th>...</th>\n",
              "      <td>...</td>\n",
              "      <td>...</td>\n",
              "      <td>...</td>\n",
              "      <td>...</td>\n",
              "      <td>...</td>\n",
              "      <td>...</td>\n",
              "      <td>...</td>\n",
              "      <td>...</td>\n",
              "      <td>...</td>\n",
              "    </tr>\n",
              "    <tr>\n",
              "      <th>1025</th>\n",
              "      <td>276.4</td>\n",
              "      <td>116.0</td>\n",
              "      <td>90.3</td>\n",
              "      <td>179.6</td>\n",
              "      <td>8.9</td>\n",
              "      <td>870.1</td>\n",
              "      <td>768.3</td>\n",
              "      <td>28</td>\n",
              "      <td>44.28</td>\n",
              "    </tr>\n",
              "    <tr>\n",
              "      <th>1026</th>\n",
              "      <td>322.2</td>\n",
              "      <td>0.0</td>\n",
              "      <td>115.6</td>\n",
              "      <td>196.0</td>\n",
              "      <td>10.4</td>\n",
              "      <td>817.9</td>\n",
              "      <td>813.4</td>\n",
              "      <td>28</td>\n",
              "      <td>31.18</td>\n",
              "    </tr>\n",
              "    <tr>\n",
              "      <th>1027</th>\n",
              "      <td>148.5</td>\n",
              "      <td>139.4</td>\n",
              "      <td>108.6</td>\n",
              "      <td>192.7</td>\n",
              "      <td>6.1</td>\n",
              "      <td>892.4</td>\n",
              "      <td>780.0</td>\n",
              "      <td>28</td>\n",
              "      <td>23.70</td>\n",
              "    </tr>\n",
              "    <tr>\n",
              "      <th>1028</th>\n",
              "      <td>159.1</td>\n",
              "      <td>186.7</td>\n",
              "      <td>0.0</td>\n",
              "      <td>175.6</td>\n",
              "      <td>11.3</td>\n",
              "      <td>989.6</td>\n",
              "      <td>788.9</td>\n",
              "      <td>28</td>\n",
              "      <td>32.77</td>\n",
              "    </tr>\n",
              "    <tr>\n",
              "      <th>1029</th>\n",
              "      <td>260.9</td>\n",
              "      <td>100.5</td>\n",
              "      <td>78.3</td>\n",
              "      <td>200.6</td>\n",
              "      <td>8.6</td>\n",
              "      <td>864.5</td>\n",
              "      <td>761.5</td>\n",
              "      <td>28</td>\n",
              "      <td>32.40</td>\n",
              "    </tr>\n",
              "  </tbody>\n",
              "</table>\n",
              "<p>1030 rows × 9 columns</p>\n",
              "</div>\n",
              "    <div class=\"colab-df-buttons\">\n",
              "\n",
              "  <div class=\"colab-df-container\">\n",
              "    <button class=\"colab-df-convert\" onclick=\"convertToInteractive('df-3aae9211-91b6-48c0-9e17-15bd914b0ff2')\"\n",
              "            title=\"Convert this dataframe to an interactive table.\"\n",
              "            style=\"display:none;\">\n",
              "\n",
              "  <svg xmlns=\"http://www.w3.org/2000/svg\" height=\"24px\" viewBox=\"0 -960 960 960\">\n",
              "    <path d=\"M120-120v-720h720v720H120Zm60-500h600v-160H180v160Zm220 220h160v-160H400v160Zm0 220h160v-160H400v160ZM180-400h160v-160H180v160Zm440 0h160v-160H620v160ZM180-180h160v-160H180v160Zm440 0h160v-160H620v160Z\"/>\n",
              "  </svg>\n",
              "    </button>\n",
              "\n",
              "  <style>\n",
              "    .colab-df-container {\n",
              "      display:flex;\n",
              "      gap: 12px;\n",
              "    }\n",
              "\n",
              "    .colab-df-convert {\n",
              "      background-color: #E8F0FE;\n",
              "      border: none;\n",
              "      border-radius: 50%;\n",
              "      cursor: pointer;\n",
              "      display: none;\n",
              "      fill: #1967D2;\n",
              "      height: 32px;\n",
              "      padding: 0 0 0 0;\n",
              "      width: 32px;\n",
              "    }\n",
              "\n",
              "    .colab-df-convert:hover {\n",
              "      background-color: #E2EBFA;\n",
              "      box-shadow: 0px 1px 2px rgba(60, 64, 67, 0.3), 0px 1px 3px 1px rgba(60, 64, 67, 0.15);\n",
              "      fill: #174EA6;\n",
              "    }\n",
              "\n",
              "    .colab-df-buttons div {\n",
              "      margin-bottom: 4px;\n",
              "    }\n",
              "\n",
              "    [theme=dark] .colab-df-convert {\n",
              "      background-color: #3B4455;\n",
              "      fill: #D2E3FC;\n",
              "    }\n",
              "\n",
              "    [theme=dark] .colab-df-convert:hover {\n",
              "      background-color: #434B5C;\n",
              "      box-shadow: 0px 1px 3px 1px rgba(0, 0, 0, 0.15);\n",
              "      filter: drop-shadow(0px 1px 2px rgba(0, 0, 0, 0.3));\n",
              "      fill: #FFFFFF;\n",
              "    }\n",
              "  </style>\n",
              "\n",
              "    <script>\n",
              "      const buttonEl =\n",
              "        document.querySelector('#df-3aae9211-91b6-48c0-9e17-15bd914b0ff2 button.colab-df-convert');\n",
              "      buttonEl.style.display =\n",
              "        google.colab.kernel.accessAllowed ? 'block' : 'none';\n",
              "\n",
              "      async function convertToInteractive(key) {\n",
              "        const element = document.querySelector('#df-3aae9211-91b6-48c0-9e17-15bd914b0ff2');\n",
              "        const dataTable =\n",
              "          await google.colab.kernel.invokeFunction('convertToInteractive',\n",
              "                                                    [key], {});\n",
              "        if (!dataTable) return;\n",
              "\n",
              "        const docLinkHtml = 'Like what you see? Visit the ' +\n",
              "          '<a target=\"_blank\" href=https://colab.research.google.com/notebooks/data_table.ipynb>data table notebook</a>'\n",
              "          + ' to learn more about interactive tables.';\n",
              "        element.innerHTML = '';\n",
              "        dataTable['output_type'] = 'display_data';\n",
              "        await google.colab.output.renderOutput(dataTable, element);\n",
              "        const docLink = document.createElement('div');\n",
              "        docLink.innerHTML = docLinkHtml;\n",
              "        element.appendChild(docLink);\n",
              "      }\n",
              "    </script>\n",
              "  </div>\n",
              "\n",
              "\n",
              "<div id=\"df-58b61d53-fb7e-40b1-a59f-7b7c70beb207\">\n",
              "  <button class=\"colab-df-quickchart\" onclick=\"quickchart('df-58b61d53-fb7e-40b1-a59f-7b7c70beb207')\"\n",
              "            title=\"Suggest charts\"\n",
              "            style=\"display:none;\">\n",
              "\n",
              "<svg xmlns=\"http://www.w3.org/2000/svg\" height=\"24px\"viewBox=\"0 0 24 24\"\n",
              "     width=\"24px\">\n",
              "    <g>\n",
              "        <path d=\"M19 3H5c-1.1 0-2 .9-2 2v14c0 1.1.9 2 2 2h14c1.1 0 2-.9 2-2V5c0-1.1-.9-2-2-2zM9 17H7v-7h2v7zm4 0h-2V7h2v10zm4 0h-2v-4h2v4z\"/>\n",
              "    </g>\n",
              "</svg>\n",
              "  </button>\n",
              "\n",
              "<style>\n",
              "  .colab-df-quickchart {\n",
              "      --bg-color: #E8F0FE;\n",
              "      --fill-color: #1967D2;\n",
              "      --hover-bg-color: #E2EBFA;\n",
              "      --hover-fill-color: #174EA6;\n",
              "      --disabled-fill-color: #AAA;\n",
              "      --disabled-bg-color: #DDD;\n",
              "  }\n",
              "\n",
              "  [theme=dark] .colab-df-quickchart {\n",
              "      --bg-color: #3B4455;\n",
              "      --fill-color: #D2E3FC;\n",
              "      --hover-bg-color: #434B5C;\n",
              "      --hover-fill-color: #FFFFFF;\n",
              "      --disabled-bg-color: #3B4455;\n",
              "      --disabled-fill-color: #666;\n",
              "  }\n",
              "\n",
              "  .colab-df-quickchart {\n",
              "    background-color: var(--bg-color);\n",
              "    border: none;\n",
              "    border-radius: 50%;\n",
              "    cursor: pointer;\n",
              "    display: none;\n",
              "    fill: var(--fill-color);\n",
              "    height: 32px;\n",
              "    padding: 0;\n",
              "    width: 32px;\n",
              "  }\n",
              "\n",
              "  .colab-df-quickchart:hover {\n",
              "    background-color: var(--hover-bg-color);\n",
              "    box-shadow: 0 1px 2px rgba(60, 64, 67, 0.3), 0 1px 3px 1px rgba(60, 64, 67, 0.15);\n",
              "    fill: var(--button-hover-fill-color);\n",
              "  }\n",
              "\n",
              "  .colab-df-quickchart-complete:disabled,\n",
              "  .colab-df-quickchart-complete:disabled:hover {\n",
              "    background-color: var(--disabled-bg-color);\n",
              "    fill: var(--disabled-fill-color);\n",
              "    box-shadow: none;\n",
              "  }\n",
              "\n",
              "  .colab-df-spinner {\n",
              "    border: 2px solid var(--fill-color);\n",
              "    border-color: transparent;\n",
              "    border-bottom-color: var(--fill-color);\n",
              "    animation:\n",
              "      spin 1s steps(1) infinite;\n",
              "  }\n",
              "\n",
              "  @keyframes spin {\n",
              "    0% {\n",
              "      border-color: transparent;\n",
              "      border-bottom-color: var(--fill-color);\n",
              "      border-left-color: var(--fill-color);\n",
              "    }\n",
              "    20% {\n",
              "      border-color: transparent;\n",
              "      border-left-color: var(--fill-color);\n",
              "      border-top-color: var(--fill-color);\n",
              "    }\n",
              "    30% {\n",
              "      border-color: transparent;\n",
              "      border-left-color: var(--fill-color);\n",
              "      border-top-color: var(--fill-color);\n",
              "      border-right-color: var(--fill-color);\n",
              "    }\n",
              "    40% {\n",
              "      border-color: transparent;\n",
              "      border-right-color: var(--fill-color);\n",
              "      border-top-color: var(--fill-color);\n",
              "    }\n",
              "    60% {\n",
              "      border-color: transparent;\n",
              "      border-right-color: var(--fill-color);\n",
              "    }\n",
              "    80% {\n",
              "      border-color: transparent;\n",
              "      border-right-color: var(--fill-color);\n",
              "      border-bottom-color: var(--fill-color);\n",
              "    }\n",
              "    90% {\n",
              "      border-color: transparent;\n",
              "      border-bottom-color: var(--fill-color);\n",
              "    }\n",
              "  }\n",
              "</style>\n",
              "\n",
              "  <script>\n",
              "    async function quickchart(key) {\n",
              "      const quickchartButtonEl =\n",
              "        document.querySelector('#' + key + ' button');\n",
              "      quickchartButtonEl.disabled = true;  // To prevent multiple clicks.\n",
              "      quickchartButtonEl.classList.add('colab-df-spinner');\n",
              "      try {\n",
              "        const charts = await google.colab.kernel.invokeFunction(\n",
              "            'suggestCharts', [key], {});\n",
              "      } catch (error) {\n",
              "        console.error('Error during call to suggestCharts:', error);\n",
              "      }\n",
              "      quickchartButtonEl.classList.remove('colab-df-spinner');\n",
              "      quickchartButtonEl.classList.add('colab-df-quickchart-complete');\n",
              "    }\n",
              "    (() => {\n",
              "      let quickchartButtonEl =\n",
              "        document.querySelector('#df-58b61d53-fb7e-40b1-a59f-7b7c70beb207 button');\n",
              "      quickchartButtonEl.style.display =\n",
              "        google.colab.kernel.accessAllowed ? 'block' : 'none';\n",
              "    })();\n",
              "  </script>\n",
              "</div>\n",
              "\n",
              "  <div id=\"id_faf692f6-2ab7-497d-b7b3-4f1213c1dfa9\">\n",
              "    <style>\n",
              "      .colab-df-generate {\n",
              "        background-color: #E8F0FE;\n",
              "        border: none;\n",
              "        border-radius: 50%;\n",
              "        cursor: pointer;\n",
              "        display: none;\n",
              "        fill: #1967D2;\n",
              "        height: 32px;\n",
              "        padding: 0 0 0 0;\n",
              "        width: 32px;\n",
              "      }\n",
              "\n",
              "      .colab-df-generate:hover {\n",
              "        background-color: #E2EBFA;\n",
              "        box-shadow: 0px 1px 2px rgba(60, 64, 67, 0.3), 0px 1px 3px 1px rgba(60, 64, 67, 0.15);\n",
              "        fill: #174EA6;\n",
              "      }\n",
              "\n",
              "      [theme=dark] .colab-df-generate {\n",
              "        background-color: #3B4455;\n",
              "        fill: #D2E3FC;\n",
              "      }\n",
              "\n",
              "      [theme=dark] .colab-df-generate:hover {\n",
              "        background-color: #434B5C;\n",
              "        box-shadow: 0px 1px 3px 1px rgba(0, 0, 0, 0.15);\n",
              "        filter: drop-shadow(0px 1px 2px rgba(0, 0, 0, 0.3));\n",
              "        fill: #FFFFFF;\n",
              "      }\n",
              "    </style>\n",
              "    <button class=\"colab-df-generate\" onclick=\"generateWithVariable('data')\"\n",
              "            title=\"Generate code using this dataframe.\"\n",
              "            style=\"display:none;\">\n",
              "\n",
              "  <svg xmlns=\"http://www.w3.org/2000/svg\" height=\"24px\"viewBox=\"0 0 24 24\"\n",
              "       width=\"24px\">\n",
              "    <path d=\"M7,19H8.4L18.45,9,17,7.55,7,17.6ZM5,21V16.75L18.45,3.32a2,2,0,0,1,2.83,0l1.4,1.43a1.91,1.91,0,0,1,.58,1.4,1.91,1.91,0,0,1-.58,1.4L9.25,21ZM18.45,9,17,7.55Zm-12,3A5.31,5.31,0,0,0,4.9,8.1,5.31,5.31,0,0,0,1,6.5,5.31,5.31,0,0,0,4.9,4.9,5.31,5.31,0,0,0,6.5,1,5.31,5.31,0,0,0,8.1,4.9,5.31,5.31,0,0,0,12,6.5,5.46,5.46,0,0,0,6.5,12Z\"/>\n",
              "  </svg>\n",
              "    </button>\n",
              "    <script>\n",
              "      (() => {\n",
              "      const buttonEl =\n",
              "        document.querySelector('#id_faf692f6-2ab7-497d-b7b3-4f1213c1dfa9 button.colab-df-generate');\n",
              "      buttonEl.style.display =\n",
              "        google.colab.kernel.accessAllowed ? 'block' : 'none';\n",
              "\n",
              "      buttonEl.onclick = () => {\n",
              "        google.colab.notebook.generateWithVariable('data');\n",
              "      }\n",
              "      })();\n",
              "    </script>\n",
              "  </div>\n",
              "\n",
              "    </div>\n",
              "  </div>\n"
            ],
            "application/vnd.google.colaboratory.intrinsic+json": {
              "type": "dataframe",
              "variable_name": "data",
              "summary": "{\n  \"name\": \"data\",\n  \"rows\": 1030,\n  \"fields\": [\n    {\n      \"column\": \"cement\",\n      \"properties\": {\n        \"dtype\": \"number\",\n        \"std\": 104.50636449481532,\n        \"min\": 102.0,\n        \"max\": 540.0,\n        \"num_unique_values\": 278,\n        \"samples\": [\n          337.9,\n          290.2,\n          262.0\n        ],\n        \"semantic_type\": \"\",\n        \"description\": \"\"\n      }\n    },\n    {\n      \"column\": \"slag\",\n      \"properties\": {\n        \"dtype\": \"number\",\n        \"std\": 86.27934174810584,\n        \"min\": 0.0,\n        \"max\": 359.4,\n        \"num_unique_values\": 185,\n        \"samples\": [\n          94.7,\n          119.0,\n          136.3\n        ],\n        \"semantic_type\": \"\",\n        \"description\": \"\"\n      }\n    },\n    {\n      \"column\": \"ash\",\n      \"properties\": {\n        \"dtype\": \"number\",\n        \"std\": 63.99700415268765,\n        \"min\": 0.0,\n        \"max\": 200.1,\n        \"num_unique_values\": 156,\n        \"samples\": [\n          98.0,\n          142.0,\n          195.0\n        ],\n        \"semantic_type\": \"\",\n        \"description\": \"\"\n      }\n    },\n    {\n      \"column\": \"water\",\n      \"properties\": {\n        \"dtype\": \"number\",\n        \"std\": 21.35421856503247,\n        \"min\": 121.8,\n        \"max\": 247.0,\n        \"num_unique_values\": 195,\n        \"samples\": [\n          195.4,\n          183.8,\n          127.3\n        ],\n        \"semantic_type\": \"\",\n        \"description\": \"\"\n      }\n    },\n    {\n      \"column\": \"superplastic\",\n      \"properties\": {\n        \"dtype\": \"number\",\n        \"std\": 5.97384139248552,\n        \"min\": 0.0,\n        \"max\": 32.2,\n        \"num_unique_values\": 111,\n        \"samples\": [\n          15.0,\n          28.2,\n          16.5\n        ],\n        \"semantic_type\": \"\",\n        \"description\": \"\"\n      }\n    },\n    {\n      \"column\": \"coarseagg\",\n      \"properties\": {\n        \"dtype\": \"number\",\n        \"std\": 77.75395396672077,\n        \"min\": 801.0,\n        \"max\": 1145.0,\n        \"num_unique_values\": 284,\n        \"samples\": [\n          852.1,\n          913.9,\n          914.0\n        ],\n        \"semantic_type\": \"\",\n        \"description\": \"\"\n      }\n    },\n    {\n      \"column\": \"fineagg\",\n      \"properties\": {\n        \"dtype\": \"number\",\n        \"std\": 80.17598014240437,\n        \"min\": 594.0,\n        \"max\": 992.6,\n        \"num_unique_values\": 302,\n        \"samples\": [\n          710.0,\n          695.4,\n          769.3\n        ],\n        \"semantic_type\": \"\",\n        \"description\": \"\"\n      }\n    },\n    {\n      \"column\": \"age\",\n      \"properties\": {\n        \"dtype\": \"number\",\n        \"std\": 63,\n        \"min\": 1,\n        \"max\": 365,\n        \"num_unique_values\": 14,\n        \"samples\": [\n          91,\n          100,\n          28\n        ],\n        \"semantic_type\": \"\",\n        \"description\": \"\"\n      }\n    },\n    {\n      \"column\": \"strength\",\n      \"properties\": {\n        \"dtype\": \"number\",\n        \"std\": 16.705741961912512,\n        \"min\": 2.33,\n        \"max\": 82.6,\n        \"num_unique_values\": 845,\n        \"samples\": [\n          41.68,\n          39.59,\n          2.33\n        ],\n        \"semantic_type\": \"\",\n        \"description\": \"\"\n      }\n    }\n  ]\n}"
            }
          },
          "metadata": {},
          "execution_count": 8
        }
      ]
    },
    {
      "cell_type": "code",
      "source": [
        "MinMaxScale = MinMaxScaler()"
      ],
      "metadata": {
        "id": "Dr4a38QOIRYd"
      },
      "execution_count": 96,
      "outputs": []
    },
    {
      "cell_type": "code",
      "source": [
        "x = torch.tensor(data.drop(columns=['strength']).values, device = device)\n",
        "y = torch.tensor(data['strength'].values, device = device).unsqueeze(1)"
      ],
      "metadata": {
        "id": "2bsbtkJFA_8o"
      },
      "execution_count": 310,
      "outputs": []
    },
    {
      "cell_type": "markdown",
      "source": [
        "#### A KFold Test"
      ],
      "metadata": {
        "id": "N7tYJcWHPBF9"
      }
    },
    {
      "cell_type": "code",
      "source": [
        "mse_gb = []\n",
        "mse_rf = []\n",
        "kf = KFold(n_splits=10,shuffle=True,random_state=1234)\n",
        "model = SCAD(input_size=x.shape[1],alpha=0.8,lambda_val=1)\n",
        "\n",
        "for idxtrain, idxtest in kf.split(x):\n",
        "  model = SCAD(input_size=x.shape[1],alpha=0.8,lambda_val=1)\n",
        "  xtrain = x[idxtrain]\n",
        "  ytrain = y[idxtrain].ravel()\n",
        "  ytest = y[idxtest].ravel()\n",
        "  xtest = x[idxtest]\n",
        "  xtrain = MinMaxScale.fit_transform(xtrain)\n",
        "  xtest = MinMaxScale.transform(xtest)\n",
        "\n",
        "  model.fit(torch.tensor(xtrain), ytrain.clone().detach().unsqueeze(1), learning_rate = 0.5)\n",
        "  yhat_gb = model.predict(torch.tensor(xtest))\n",
        "\n",
        "  mse_gb.append(nn.MSELoss()(yhat_gb, ytest.clone().detach().unsqueeze(1)))\n",
        "print('The Cross-validated Mean Squared Error for Gradient Boosting is : '+str(torch.mean(torch.tensor(mse_gb))))"
      ],
      "metadata": {
        "colab": {
          "base_uri": "https://localhost:8080/"
        },
        "id": "7KTY6aMuIM5Z",
        "outputId": "0ac7d8b4-aa5f-4075-df7d-8206a7d9f085"
      },
      "execution_count": 176,
      "outputs": [
        {
          "output_type": "stream",
          "name": "stdout",
          "text": [
            "Epoch [10/100], Loss: 188.74084575133548\n",
            "Epoch [20/100], Loss: 150.9289613303605\n",
            "Epoch [30/100], Loss: 135.61881909819414\n",
            "Epoch [40/100], Loss: 128.57182609444826\n",
            "Epoch [50/100], Loss: 126.42173283105899\n",
            "Epoch [60/100], Loss: 125.45915370140784\n",
            "Epoch [70/100], Loss: 124.99603977905709\n",
            "Epoch [80/100], Loss: 124.75117766678039\n",
            "Epoch [90/100], Loss: 124.62661619337624\n",
            "Epoch [100/100], Loss: 124.55909163422704\n",
            "Epoch [10/100], Loss: 187.93611876417964\n",
            "Epoch [20/100], Loss: 151.15036354973415\n",
            "Epoch [30/100], Loss: 136.15851254290416\n",
            "Epoch [40/100], Loss: 128.9704651344102\n",
            "Epoch [50/100], Loss: 126.8626284747497\n",
            "Epoch [60/100], Loss: 125.8725975918889\n",
            "Epoch [70/100], Loss: 125.46229528847724\n",
            "Epoch [80/100], Loss: 125.23370809968745\n",
            "Epoch [90/100], Loss: 125.12664424301352\n",
            "Epoch [100/100], Loss: 125.07257941424568\n",
            "Epoch [10/100], Loss: 189.1659512566804\n",
            "Epoch [20/100], Loss: 152.42314904211892\n",
            "Epoch [30/100], Loss: 137.2319152747269\n",
            "Epoch [40/100], Loss: 130.87954785199133\n",
            "Epoch [50/100], Loss: 127.25856960613196\n",
            "Epoch [60/100], Loss: 125.9922618650332\n",
            "Epoch [70/100], Loss: 125.43034010367735\n",
            "Epoch [80/100], Loss: 125.08364672081561\n",
            "Epoch [90/100], Loss: 124.9105956519387\n",
            "Epoch [100/100], Loss: 124.81761219763524\n",
            "Epoch [10/100], Loss: 188.8793213298824\n",
            "Epoch [20/100], Loss: 150.9945558251517\n",
            "Epoch [30/100], Loss: 135.259598221349\n",
            "Epoch [40/100], Loss: 127.7849610664044\n",
            "Epoch [50/100], Loss: 125.29998010606934\n",
            "Epoch [60/100], Loss: 124.06496100318054\n",
            "Epoch [70/100], Loss: 124.65113755472272\n",
            "Epoch [80/100], Loss: 123.18774307026318\n",
            "Epoch [90/100], Loss: 123.02135809286798\n",
            "Epoch [100/100], Loss: 122.93348063549968\n",
            "Epoch [10/100], Loss: 188.04507137606282\n",
            "Epoch [20/100], Loss: 152.5984073813141\n",
            "Epoch [30/100], Loss: 137.71414935161718\n",
            "Epoch [40/100], Loss: 130.0559248384945\n",
            "Epoch [50/100], Loss: 127.66184354797022\n",
            "Epoch [60/100], Loss: 126.5187021260486\n",
            "Epoch [70/100], Loss: 125.90888418771608\n",
            "Epoch [80/100], Loss: 125.59672193718075\n",
            "Epoch [90/100], Loss: 125.42561907106331\n",
            "Epoch [100/100], Loss: 125.32734138482074\n",
            "Epoch [10/100], Loss: 185.03001993912608\n",
            "Epoch [20/100], Loss: 148.67818783211968\n",
            "Epoch [30/100], Loss: 133.86698633414846\n",
            "Epoch [40/100], Loss: 126.97483281633211\n",
            "Epoch [50/100], Loss: 124.77059431686145\n",
            "Epoch [60/100], Loss: 123.67690867112212\n",
            "Epoch [70/100], Loss: 123.21509507594992\n",
            "Epoch [80/100], Loss: 122.94353882288783\n",
            "Epoch [90/100], Loss: 122.81462556138331\n",
            "Epoch [100/100], Loss: 122.74893116381566\n",
            "Epoch [10/100], Loss: 185.44172696433844\n",
            "Epoch [20/100], Loss: 149.0183171679892\n",
            "Epoch [30/100], Loss: 134.09048558606355\n",
            "Epoch [40/100], Loss: 126.70888597722616\n",
            "Epoch [50/100], Loss: 124.47159617382893\n",
            "Epoch [60/100], Loss: 124.584313585007\n",
            "Epoch [70/100], Loss: 122.8860990351986\n",
            "Epoch [80/100], Loss: 122.68573762224625\n",
            "Epoch [90/100], Loss: 122.52993367753172\n",
            "Epoch [100/100], Loss: 122.46007041011984\n",
            "Epoch [10/100], Loss: 184.01762523896343\n",
            "Epoch [20/100], Loss: 148.76941899154508\n",
            "Epoch [30/100], Loss: 134.57935353945442\n",
            "Epoch [40/100], Loss: 127.63372179995538\n",
            "Epoch [50/100], Loss: 125.20283550900427\n",
            "Epoch [60/100], Loss: 124.26729662744512\n",
            "Epoch [70/100], Loss: 123.76891472391434\n",
            "Epoch [80/100], Loss: 123.60339763721302\n",
            "Epoch [90/100], Loss: 123.46406371881177\n",
            "Epoch [100/100], Loss: 123.40740877742059\n",
            "Epoch [10/100], Loss: 186.89371480466176\n",
            "Epoch [20/100], Loss: 151.4378810662082\n",
            "Epoch [30/100], Loss: 136.82219658655416\n",
            "Epoch [40/100], Loss: 130.5560074331465\n",
            "Epoch [50/100], Loss: 127.1583830690047\n",
            "Epoch [60/100], Loss: 126.13448806065037\n",
            "Epoch [70/100], Loss: 125.65235406296192\n",
            "Epoch [80/100], Loss: 125.42042339737402\n",
            "Epoch [90/100], Loss: 125.31174214466334\n",
            "Epoch [100/100], Loss: 125.25704686354162\n",
            "Epoch [10/100], Loss: 188.72515329539982\n",
            "Epoch [20/100], Loss: 149.77616023520127\n",
            "Epoch [30/100], Loss: 134.0472548996208\n",
            "Epoch [40/100], Loss: 126.34506557453503\n",
            "Epoch [50/100], Loss: 123.97607895496368\n",
            "Epoch [60/100], Loss: 122.8854097116795\n",
            "Epoch [70/100], Loss: 122.31980395781896\n",
            "Epoch [80/100], Loss: 122.05808254232888\n",
            "Epoch [90/100], Loss: 121.41499353790094\n",
            "Epoch [100/100], Loss: 121.47579938043478\n",
            "The Cross-validated Mean Squared Error for Gradient Boosting is : tensor(119.3159, dtype=torch.float64)\n"
          ]
        }
      ]
    },
    {
      "cell_type": "markdown",
      "source": [
        "#### Determining a variable selection"
      ],
      "metadata": {
        "id": "K-gpl4oZQjKA"
      }
    },
    {
      "cell_type": "code",
      "source": [
        "model = SCAD(input_size=x.shape[1],alpha=.235,lambda_val=1)"
      ],
      "metadata": {
        "id": "2cv2GJ9XB0zp"
      },
      "execution_count": 315,
      "outputs": []
    },
    {
      "cell_type": "code",
      "source": [
        "scaled_x = torch.tensor(MinMaxScale.fit_transform(x))\n",
        "model.fit(scaled_x, y, learning_rate = 0.5)"
      ],
      "metadata": {
        "colab": {
          "base_uri": "https://localhost:8080/"
        },
        "id": "Wmm610IXPHvM",
        "outputId": "fcaf0764-5478-4ff1-c6e1-e31199da5220"
      },
      "execution_count": 183,
      "outputs": [
        {
          "output_type": "stream",
          "name": "stdout",
          "text": [
            "Epoch [10/100], Loss: 186.0196304195578\n",
            "Epoch [20/100], Loss: 148.99873979568926\n",
            "Epoch [30/100], Loss: 133.7726301906199\n",
            "Epoch [40/100], Loss: 126.39458231829214\n",
            "Epoch [50/100], Loss: 124.99092185774028\n",
            "Epoch [60/100], Loss: 122.96020927165088\n",
            "Epoch [70/100], Loss: 123.08438023659951\n",
            "Epoch [80/100], Loss: 122.79511927924047\n",
            "Epoch [90/100], Loss: 122.04032590027713\n",
            "Epoch [100/100], Loss: 121.96995711983931\n"
          ]
        }
      ]
    },
    {
      "cell_type": "code",
      "source": [
        "model.get_coefficients()"
      ],
      "metadata": {
        "colab": {
          "base_uri": "https://localhost:8080/"
        },
        "id": "ozy5mtPdPJe8",
        "outputId": "b2520ac8-6405-41f9-a724-c4c8b8b66a97"
      },
      "execution_count": 184,
      "outputs": [
        {
          "output_type": "execute_result",
          "data": {
            "text/plain": [
              "Parameter containing:\n",
              "tensor([[41.5320, 25.2498,  9.3019, -0.1909, 25.5461,  3.5289,  1.4021, 34.0545]],\n",
              "       dtype=torch.float64, requires_grad=True)"
            ]
          },
          "metadata": {},
          "execution_count": 184
        }
      ]
    },
    {
      "cell_type": "markdown",
      "source": [
        "Based on my SCAD implementation, the most important features for predicting concrete strength are the cement, age, slag, and superplastic values."
      ],
      "metadata": {
        "id": "oopta-noQx6a"
      }
    },
    {
      "cell_type": "markdown",
      "source": [
        "# 2. Simulation Design\n",
        "\n",
        " Generate 500 data sets where the input features have a strong correlation structure (you may consider a 0.9) and apply ElasticNet, SqrtLasso and SCAD to check which method produces the best approximation of an ideal solution, such as a \"betastar\" you design with a sparsity pattern."
      ],
      "metadata": {
        "id": "rsUI9ENvRI0k"
      }
    },
    {
      "cell_type": "markdown",
      "source": [
        "### ElasticNet and SQRTLasso"
      ],
      "metadata": {
        "id": "cv_a8aTdRVwH"
      }
    },
    {
      "cell_type": "code",
      "source": [
        "class ElasticNet(nn.Module):\n",
        "    def __init__(self, input_size, alpha=1.0, l1_ratio=0.5, report_epoch = False):\n",
        "        \"\"\"\n",
        "        Initialize the ElasticNet regression model.\n",
        "\n",
        "        Args:\n",
        "            input_size (int): Number of input features.\n",
        "            alpha (float): Regularization strength. Higher values of alpha\n",
        "                emphasize L1 regularization, while lower values emphasize L2 regularization.\n",
        "            l1_ratio (float): The ratio of L1 regularization to the total\n",
        "                regularization (L1 + L2). It should be between 0 and 1.\n",
        "\n",
        "        \"\"\"\n",
        "        super(ElasticNet, self).__init__()\n",
        "        self.input_size = input_size\n",
        "        self.alpha = alpha\n",
        "        self.l1_ratio = l1_ratio\n",
        "        self.report_epoch = report_epoch\n",
        "\n",
        "        # Define the linear regression layer\n",
        "        self.linear = nn.Linear(input_size, 1,bias=False,device=device,dtype=dtype)\n",
        "\n",
        "    def forward(self, x):\n",
        "        \"\"\"\n",
        "        Forward pass of the ElasticNet model.\n",
        "\n",
        "        Args:\n",
        "            x (Tensor): Input data with shape (batch_size, input_size).\n",
        "\n",
        "        Returns:\n",
        "            Tensor: Predicted values with shape (batch_size, 1).\n",
        "\n",
        "        \"\"\"\n",
        "        return self.linear(x)\n",
        "\n",
        "    def loss(self, y_pred, y_true):\n",
        "        \"\"\"\n",
        "        Compute the ElasticNet loss function.\n",
        "\n",
        "        Args:\n",
        "            y_pred (Tensor): Predicted values with shape (batch_size, 1).\n",
        "            y_true (Tensor): True target values with shape (batch_size, 1).\n",
        "\n",
        "        Returns:\n",
        "            Tensor: The ElasticNet loss.\n",
        "\n",
        "        \"\"\"\n",
        "        mse_loss = nn.MSELoss()(y_pred, y_true)\n",
        "        # norm be thought of as a distance function but generalized to any number of features\n",
        "        l1_reg = torch.norm(self.linear.weight, p=1) # p specifies the exponent in the norm: sum(abs(x)**p)**(1./p)\n",
        "        l2_reg = torch.norm(self.linear.weight, p=2)\n",
        "\n",
        "        loss = mse_loss + self.alpha * (\n",
        "            self.l1_ratio * l1_reg + (1 - self.l1_ratio) * (1/2) * l2_reg**2\n",
        "        )\n",
        "        return loss\n",
        "\n",
        "    def fit(self, X, y, num_epochs=100, learning_rate=0.01):\n",
        "        \"\"\"\n",
        "        Fit the ElasticNet model to the training data.\n",
        "\n",
        "        Args:\n",
        "            X (Tensor): Input data with shape (num_samples, input_size).\n",
        "            y (Tensor): Target values with shape (num_samples, 1).\n",
        "            num_epochs (int): Number of training epochs.\n",
        "            learning_rate (float): Learning rate for optimization.\n",
        "\n",
        "        \"\"\"\n",
        "        optimizer = optim.SGD(self.parameters(), lr=learning_rate)\n",
        "\n",
        "        for epoch in range(num_epochs):\n",
        "            self.train()\n",
        "            optimizer.zero_grad() # reset gradient\n",
        "            y_pred = self(X)\n",
        "            loss = self.loss(y_pred, y)\n",
        "            loss.backward() # backpropogation\n",
        "            optimizer.step() # update weights\n",
        "\n",
        "            # print progress every 10 steps\n",
        "            if (epoch + 1) % 10 == 0 and self.report_epoch:\n",
        "                print(f\"Epoch [{epoch + 1}/{num_epochs}], Loss: {loss.item()}\")\n",
        "\n",
        "    def predict(self, X):\n",
        "        \"\"\"\n",
        "        Predict target values for input data.\n",
        "\n",
        "        Args:\n",
        "            X (Tensor): Input data with shape (num_samples, input_size).\n",
        "\n",
        "        Returns:\n",
        "            Tensor: Predicted values with shape (num_samples, 1).\n",
        "\n",
        "        \"\"\"\n",
        "        self.eval()\n",
        "        with torch.no_grad():\n",
        "            y_pred = self(X)\n",
        "        return y_pred\n",
        "    def get_coefficients(self):\n",
        "        \"\"\"\n",
        "        Get the coefficients (weights) of the linear regression layer.\n",
        "\n",
        "        Returns:\n",
        "            Tensor: Coefficients with shape (output_size, input_size).\n",
        "\n",
        "        \"\"\"\n",
        "        return self.linear.weight\n"
      ],
      "metadata": {
        "id": "tEBlQevtPYo7"
      },
      "execution_count": 308,
      "outputs": []
    },
    {
      "cell_type": "code",
      "source": [
        "class SqrtLasso(nn.Module):\n",
        "    def __init__(self, input_size, alpha=0.1, report_epoch = False):\n",
        "        \"\"\"\n",
        "        Initialize the  regression model.\n",
        "\n",
        "\n",
        "        \"\"\"\n",
        "        super(SqrtLasso, self).__init__()\n",
        "        self.input_size = input_size\n",
        "        self.alpha = alpha\n",
        "        self.report_epoch = report_epoch\n",
        "\n",
        "        # Define the linear regression layer\n",
        "        self.linear = nn.Linear(input_size, 1,bias=False,device=device,dtype=dtype)\n",
        "\n",
        "    def forward(self, x):\n",
        "        \"\"\"\n",
        "        Forward pass of the model.\n",
        "\n",
        "        Args:\n",
        "            x (Tensor): Input data with shape (batch_size, input_size).\n",
        "\n",
        "        Returns:\n",
        "            Tensor: Predicted values with shape (batch_size, 1).\n",
        "\n",
        "        \"\"\"\n",
        "        return self.linear(x)\n",
        "\n",
        "    def loss(self, y_pred, y_true):\n",
        "        \"\"\"\n",
        "        Compute the loss function.\n",
        "\n",
        "        Args:\n",
        "            y_pred (Tensor): Predicted values with shape (batch_size, 1).\n",
        "            y_true (Tensor): True target values with shape (batch_size, 1).\n",
        "\n",
        "        Returns:\n",
        "            Tensor: The loss.\n",
        "\n",
        "        \"\"\"\n",
        "        mse_loss = nn.MSELoss()(y_pred, y_true)\n",
        "        l1_reg = torch.norm(self.linear.weight, p=1,dtype=torch.float64)\n",
        "        # l2_reg = torch.norm(self.linear.weight, p=2,dtype=torch.float64)\n",
        "\n",
        "        loss = torch.sqrt(mse_loss) + self.alpha * (l1_reg)\n",
        "\n",
        "        return loss\n",
        "\n",
        "    def fit(self, X, y, num_epochs=200, learning_rate=0.01):\n",
        "        \"\"\"\n",
        "        Fit the model to the training data.\n",
        "\n",
        "        Args:\n",
        "            X (Tensor): Input data with shape (num_samples, input_size).\n",
        "            y (Tensor): Target values with shape (num_samples, 1).\n",
        "            num_epochs (int): Number of training epochs.\n",
        "            learning_rate (float): Learning rate for optimization.\n",
        "\n",
        "        \"\"\"\n",
        "        optimizer = optim.Adam(self.parameters(), lr=learning_rate)\n",
        "\n",
        "        for epoch in range(num_epochs):\n",
        "            self.train()\n",
        "            optimizer.zero_grad()\n",
        "            y_pred = self(X)\n",
        "            loss = self.loss(y_pred, y)\n",
        "            loss.backward()\n",
        "            optimizer.step()\n",
        "\n",
        "            if (epoch + 1) % 100 == 0 and self.report_epoch:\n",
        "                print(f\"Epoch [{epoch + 1}/{num_epochs}], Loss: {loss.item()}\")\n",
        "\n",
        "    def predict(self, X):\n",
        "        \"\"\"\n",
        "        Predict target values for input data.\n",
        "\n",
        "        Args:\n",
        "            X (Tensor): Input data with shape (num_samples, input_size).\n",
        "\n",
        "        Returns:\n",
        "            Tensor: Predicted values with shape (num_samples, 1).\n",
        "\n",
        "        \"\"\"\n",
        "        self.eval()\n",
        "        with torch.no_grad():\n",
        "            y_pred = self(X)\n",
        "        return y_pred\n",
        "    def get_coefficients(self):\n",
        "        \"\"\"\n",
        "        Get the coefficients (weights) of the linear regression layer.\n",
        "\n",
        "        Returns:\n",
        "            Tensor: Coefficients with shape (output_size, input_size).\n",
        "\n",
        "        \"\"\"\n",
        "        return self.linear.weight"
      ],
      "metadata": {
        "id": "2e1yotKtRSJz"
      },
      "execution_count": 276,
      "outputs": []
    },
    {
      "cell_type": "markdown",
      "source": [
        "### Generating Data Sets"
      ],
      "metadata": {
        "id": "xfab8DKoRZ9S"
      }
    },
    {
      "cell_type": "code",
      "source": [
        "from scipy.linalg import toeplitz\n",
        "import numpy as np"
      ],
      "metadata": {
        "id": "61yYhGCyUh_t"
      },
      "execution_count": 277,
      "outputs": []
    },
    {
      "cell_type": "code",
      "source": [
        "# we want to define a function for generating x with a prescribed number of observations, features and Toeplitz correlation structure.\n",
        "def make_correlated_features(num_samples,p,rho):\n",
        "  vcor = []\n",
        "  for i in range(p):\n",
        "    vcor.append(rho**i)\n",
        "  r = toeplitz(vcor)\n",
        "  mu = np.repeat(0,p)\n",
        "  x = np.random.multivariate_normal(mu, r, size=num_samples)\n",
        "  return x"
      ],
      "metadata": {
        "id": "cmRLkyyERTiu"
      },
      "execution_count": 278,
      "outputs": []
    },
    {
      "cell_type": "code",
      "source": [
        "rho = 0.9\n",
        "p = 20\n",
        "n = 150"
      ],
      "metadata": {
        "id": "72860YnrUlTT"
      },
      "execution_count": 325,
      "outputs": []
    },
    {
      "cell_type": "code",
      "source": [
        "datasets = []\n",
        "for x in range(0, 500):\n",
        "  datasets.append(torch.tensor(make_correlated_features(n,p,rho)))"
      ],
      "metadata": {
        "id": "JngQno_hUnCz"
      },
      "execution_count": 280,
      "outputs": []
    },
    {
      "cell_type": "code",
      "source": [
        "beta = np.array([5,0,8,0,-3,0,1,0,7,0]) # self-defined sparsity pattern\n",
        "beta = beta.reshape(-1,1)\n",
        "betastar = np.concatenate([beta,np.repeat(0,p-len(beta)).reshape(-1,1)],axis=0) # any remaining betas are 0"
      ],
      "metadata": {
        "id": "X_xidziQVGuD"
      },
      "execution_count": 326,
      "outputs": []
    },
    {
      "cell_type": "code",
      "source": [
        "# generate response with noise\n",
        "reponses = []\n",
        "for x in datasets:\n",
        "  reponses.append((x@betastar + 1.5*np.random.normal(size=(n,1))).clone().detach())"
      ],
      "metadata": {
        "id": "hJrKspNfVTC6"
      },
      "execution_count": 282,
      "outputs": []
    },
    {
      "cell_type": "code",
      "source": [
        "SCAD_m = SCAD(input_size=p, alpha=0.5, lambda_val=0.5)\n",
        "EN = ElasticNet(input_size=p, alpha=1.0, l1_ratio=0.5)\n",
        "SQRT = SqrtLasso(input_size=p, alpha=0.1)"
      ],
      "metadata": {
        "id": "c41UVg02VUQU"
      },
      "execution_count": 320,
      "outputs": []
    },
    {
      "cell_type": "code",
      "source": [
        "SCAD_pred_error = np.repeat(0,p)\n",
        "EN_pred_error = np.repeat(0,p)\n",
        "SQRT_pred_error = np.repeat(0,p)\n",
        "\n",
        "for x in range(0, 500):\n",
        "  SCAD_m.fit(datasets[x], reponses[x])\n",
        "  SCAD_pred_error = np.add(SCAD_pred_error, np.subtract(betastar.flatten(), SCAD_m.get_coefficients().detach().numpy()))\n",
        "  EN.fit(datasets[x], reponses[x])\n",
        "  EN_pred_error = np.add(EN_pred_error, np.subtract(betastar.flatten(), EN.get_coefficients().detach().numpy()))\n",
        "  SQRT.fit(datasets[x], reponses[x])\n",
        "  SQRT_pred_error = np.add(SQRT_pred_error, np.subtract(betastar.flatten(), SQRT.get_coefficients().detach().numpy()))"
      ],
      "metadata": {
        "id": "qJucD_G7WeL1"
      },
      "execution_count": 322,
      "outputs": []
    },
    {
      "cell_type": "code",
      "source": [
        "print(\"Average difference between predicted beta and actual beta for SCAD: \" + str(np.sum(np.abs(SCAD_pred_error)) / 500))\n",
        "print(\"Average difference between predicted beta and actual beta for ElasticNet: \" + str(np.sum(np.abs(EN_pred_error)) / 500))\n",
        "print(\"Average difference between predicted beta and actual beta for SQRT Lasso: \" + str(np.sum(np.abs(SQRT_pred_error)) / 500))"
      ],
      "metadata": {
        "colab": {
          "base_uri": "https://localhost:8080/"
        },
        "id": "qRwU7TQ4Wvj2",
        "outputId": "2a126b00-b400-43ed-b2e0-25a17d3f43df"
      },
      "execution_count": 323,
      "outputs": [
        {
          "output_type": "stream",
          "name": "stdout",
          "text": [
            "Average difference between predicted beta and actual beta for SCAD: 2.0317050538402137\n",
            "Average difference between predicted beta and actual beta for ElasticNet: 20.20477584925671\n",
            "Average difference between predicted beta and actual beta for SQRT Lasso: 4.325177263745284\n"
          ]
        }
      ]
    },
    {
      "cell_type": "markdown",
      "source": [
        "Based on my test with 500 datasets, SCAD does the best at approximating the ideal solution. I used default hyperparameter values and a sparsity pattern of 5 significant features out of 20 total features."
      ],
      "metadata": {
        "id": "jE3_vzW5dPrB"
      }
    },
    {
      "cell_type": "code",
      "source": [],
      "metadata": {
        "id": "i-Kvs-OobLAM"
      },
      "execution_count": null,
      "outputs": []
    }
  ]
}
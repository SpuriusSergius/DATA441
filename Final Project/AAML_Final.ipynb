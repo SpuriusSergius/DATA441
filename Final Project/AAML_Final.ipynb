{
  "cells": [
    {
      "cell_type": "code",
      "execution_count": 2,
      "metadata": {
        "id": "GjFHhppfc3i6"
      },
      "outputs": [],
      "source": [
        "import pandas as pd\n",
        "import numpy as np\n",
        "from sklearn.linear_model import LinearRegression\n",
        "import matplotlib.pyplot as plt"
      ]
    },
    {
      "cell_type": "code",
      "execution_count": 3,
      "metadata": {
        "colab": {
          "base_uri": "https://localhost:8080/"
        },
        "id": "DTDEBt0mAlZc",
        "outputId": "cd2e5df0-781f-42b8-cc30-52956c569af8"
      },
      "outputs": [
        {
          "output_type": "stream",
          "name": "stdout",
          "text": [
            "Mounted at /content/drive\n"
          ]
        }
      ],
      "source": [
        "\n",
        "from google.colab import drive\n",
        "drive.mount('/content/drive')"
      ]
    },
    {
      "cell_type": "code",
      "execution_count": 5,
      "metadata": {
        "id": "csO8SCBjc7Bg"
      },
      "outputs": [],
      "source": [
        "# data = pd.read_csv(\"data.csv\")\n",
        "data = pd.read_csv(\"/content/drive/MyDrive/Colab Notebooks/DATA 441/Final/Rdata5yrs.csv\")"
      ]
    },
    {
      "cell_type": "code",
      "execution_count": null,
      "metadata": {
        "id": "839-aLLJdOs2"
      },
      "outputs": [],
      "source": [
        "LR = LinearRegression()"
      ]
    },
    {
      "cell_type": "code",
      "execution_count": 6,
      "metadata": {
        "id": "l8azU_t3df1x"
      },
      "outputs": [],
      "source": [
        "Y = data[\"positionOrder\"]\n",
        "X = data[[\"circuitID\", \"Weather\", \"driverId\", \"constructorId\", \"quali_ position\"]]"
      ]
    },
    {
      "cell_type": "code",
      "execution_count": null,
      "metadata": {
        "colab": {
          "base_uri": "https://localhost:8080/",
          "height": 423
        },
        "id": "gAuHx7qZeGJ2",
        "outputId": "a8fb4a44-b223-436a-869c-b4acdff18820"
      },
      "outputs": [
        {
          "output_type": "execute_result",
          "data": {
            "text/plain": [
              "      resultId  circuitID  Weather  raceId  driverId  constructorId  \\\n",
              "0      23782.0        1.0      0.0   989.0      20.0            6.0   \n",
              "1      23783.0        1.0      0.0   989.0       1.0          131.0   \n",
              "2      23784.0        1.0      0.0   989.0       8.0            6.0   \n",
              "3      23785.0        1.0      0.0   989.0     817.0            9.0   \n",
              "4      23786.0        1.0      0.0   989.0       4.0            1.0   \n",
              "...        ...        ...      ...     ...       ...            ...   \n",
              "2295   26081.0       13.0      1.0  1110.0     817.0          213.0   \n",
              "2296   26082.0       13.0      1.0  1110.0     858.0            3.0   \n",
              "2297   26083.0       13.0      1.0  1110.0     807.0          210.0   \n",
              "2298   26084.0       13.0      1.0  1110.0     832.0            6.0   \n",
              "2299   26085.0       13.0      1.0  1110.0     857.0            1.0   \n",
              "\n",
              "      positionOrder  laps    pit_id  pit stops duration  # of pitstops  \\\n",
              "0               1.0  58.0    989-20              21.787            1.0   \n",
              "1               2.0  58.0     989-1              21.821            1.0   \n",
              "2               3.0  58.0     989-8              21.421            1.0   \n",
              "3               4.0  58.0   989-817              21.440            1.0   \n",
              "4               5.0  58.0     989-4              22.573            1.0   \n",
              "...             ...   ...       ...                 ...            ...   \n",
              "2295           16.0  44.0  1110-817              22.843            3.0   \n",
              "2296           17.0  44.0  1110-858              23.570            2.0   \n",
              "2297           18.0  44.0  1110-807              24.571            1.0   \n",
              "2298           19.0  23.0  1110-832              23.303            0.0   \n",
              "2299           20.0   0.0  1110-857              50.000            0.0   \n",
              "\n",
              "      quali_ position  \n",
              "0                 3.0  \n",
              "1                 1.0  \n",
              "2                 2.0  \n",
              "3                 5.0  \n",
              "4                11.0  \n",
              "...               ...  \n",
              "2295             19.0  \n",
              "2296             18.0  \n",
              "2297             20.0  \n",
              "2298              5.0  \n",
              "2299              6.0  \n",
              "\n",
              "[2300 rows x 12 columns]"
            ],
            "text/html": [
              "\n",
              "  <div id=\"df-4b8a106a-f31b-4cc6-88f3-311fed6584b7\" class=\"colab-df-container\">\n",
              "    <div>\n",
              "<style scoped>\n",
              "    .dataframe tbody tr th:only-of-type {\n",
              "        vertical-align: middle;\n",
              "    }\n",
              "\n",
              "    .dataframe tbody tr th {\n",
              "        vertical-align: top;\n",
              "    }\n",
              "\n",
              "    .dataframe thead th {\n",
              "        text-align: right;\n",
              "    }\n",
              "</style>\n",
              "<table border=\"1\" class=\"dataframe\">\n",
              "  <thead>\n",
              "    <tr style=\"text-align: right;\">\n",
              "      <th></th>\n",
              "      <th>resultId</th>\n",
              "      <th>circuitID</th>\n",
              "      <th>Weather</th>\n",
              "      <th>raceId</th>\n",
              "      <th>driverId</th>\n",
              "      <th>constructorId</th>\n",
              "      <th>positionOrder</th>\n",
              "      <th>laps</th>\n",
              "      <th>pit_id</th>\n",
              "      <th>pit stops duration</th>\n",
              "      <th># of pitstops</th>\n",
              "      <th>quali_ position</th>\n",
              "    </tr>\n",
              "  </thead>\n",
              "  <tbody>\n",
              "    <tr>\n",
              "      <th>0</th>\n",
              "      <td>23782.0</td>\n",
              "      <td>1.0</td>\n",
              "      <td>0.0</td>\n",
              "      <td>989.0</td>\n",
              "      <td>20.0</td>\n",
              "      <td>6.0</td>\n",
              "      <td>1.0</td>\n",
              "      <td>58.0</td>\n",
              "      <td>989-20</td>\n",
              "      <td>21.787</td>\n",
              "      <td>1.0</td>\n",
              "      <td>3.0</td>\n",
              "    </tr>\n",
              "    <tr>\n",
              "      <th>1</th>\n",
              "      <td>23783.0</td>\n",
              "      <td>1.0</td>\n",
              "      <td>0.0</td>\n",
              "      <td>989.0</td>\n",
              "      <td>1.0</td>\n",
              "      <td>131.0</td>\n",
              "      <td>2.0</td>\n",
              "      <td>58.0</td>\n",
              "      <td>989-1</td>\n",
              "      <td>21.821</td>\n",
              "      <td>1.0</td>\n",
              "      <td>1.0</td>\n",
              "    </tr>\n",
              "    <tr>\n",
              "      <th>2</th>\n",
              "      <td>23784.0</td>\n",
              "      <td>1.0</td>\n",
              "      <td>0.0</td>\n",
              "      <td>989.0</td>\n",
              "      <td>8.0</td>\n",
              "      <td>6.0</td>\n",
              "      <td>3.0</td>\n",
              "      <td>58.0</td>\n",
              "      <td>989-8</td>\n",
              "      <td>21.421</td>\n",
              "      <td>1.0</td>\n",
              "      <td>2.0</td>\n",
              "    </tr>\n",
              "    <tr>\n",
              "      <th>3</th>\n",
              "      <td>23785.0</td>\n",
              "      <td>1.0</td>\n",
              "      <td>0.0</td>\n",
              "      <td>989.0</td>\n",
              "      <td>817.0</td>\n",
              "      <td>9.0</td>\n",
              "      <td>4.0</td>\n",
              "      <td>58.0</td>\n",
              "      <td>989-817</td>\n",
              "      <td>21.440</td>\n",
              "      <td>1.0</td>\n",
              "      <td>5.0</td>\n",
              "    </tr>\n",
              "    <tr>\n",
              "      <th>4</th>\n",
              "      <td>23786.0</td>\n",
              "      <td>1.0</td>\n",
              "      <td>0.0</td>\n",
              "      <td>989.0</td>\n",
              "      <td>4.0</td>\n",
              "      <td>1.0</td>\n",
              "      <td>5.0</td>\n",
              "      <td>58.0</td>\n",
              "      <td>989-4</td>\n",
              "      <td>22.573</td>\n",
              "      <td>1.0</td>\n",
              "      <td>11.0</td>\n",
              "    </tr>\n",
              "    <tr>\n",
              "      <th>...</th>\n",
              "      <td>...</td>\n",
              "      <td>...</td>\n",
              "      <td>...</td>\n",
              "      <td>...</td>\n",
              "      <td>...</td>\n",
              "      <td>...</td>\n",
              "      <td>...</td>\n",
              "      <td>...</td>\n",
              "      <td>...</td>\n",
              "      <td>...</td>\n",
              "      <td>...</td>\n",
              "      <td>...</td>\n",
              "    </tr>\n",
              "    <tr>\n",
              "      <th>2295</th>\n",
              "      <td>26081.0</td>\n",
              "      <td>13.0</td>\n",
              "      <td>1.0</td>\n",
              "      <td>1110.0</td>\n",
              "      <td>817.0</td>\n",
              "      <td>213.0</td>\n",
              "      <td>16.0</td>\n",
              "      <td>44.0</td>\n",
              "      <td>1110-817</td>\n",
              "      <td>22.843</td>\n",
              "      <td>3.0</td>\n",
              "      <td>19.0</td>\n",
              "    </tr>\n",
              "    <tr>\n",
              "      <th>2296</th>\n",
              "      <td>26082.0</td>\n",
              "      <td>13.0</td>\n",
              "      <td>1.0</td>\n",
              "      <td>1110.0</td>\n",
              "      <td>858.0</td>\n",
              "      <td>3.0</td>\n",
              "      <td>17.0</td>\n",
              "      <td>44.0</td>\n",
              "      <td>1110-858</td>\n",
              "      <td>23.570</td>\n",
              "      <td>2.0</td>\n",
              "      <td>18.0</td>\n",
              "    </tr>\n",
              "    <tr>\n",
              "      <th>2297</th>\n",
              "      <td>26083.0</td>\n",
              "      <td>13.0</td>\n",
              "      <td>1.0</td>\n",
              "      <td>1110.0</td>\n",
              "      <td>807.0</td>\n",
              "      <td>210.0</td>\n",
              "      <td>18.0</td>\n",
              "      <td>44.0</td>\n",
              "      <td>1110-807</td>\n",
              "      <td>24.571</td>\n",
              "      <td>1.0</td>\n",
              "      <td>20.0</td>\n",
              "    </tr>\n",
              "    <tr>\n",
              "      <th>2298</th>\n",
              "      <td>26084.0</td>\n",
              "      <td>13.0</td>\n",
              "      <td>1.0</td>\n",
              "      <td>1110.0</td>\n",
              "      <td>832.0</td>\n",
              "      <td>6.0</td>\n",
              "      <td>19.0</td>\n",
              "      <td>23.0</td>\n",
              "      <td>1110-832</td>\n",
              "      <td>23.303</td>\n",
              "      <td>0.0</td>\n",
              "      <td>5.0</td>\n",
              "    </tr>\n",
              "    <tr>\n",
              "      <th>2299</th>\n",
              "      <td>26085.0</td>\n",
              "      <td>13.0</td>\n",
              "      <td>1.0</td>\n",
              "      <td>1110.0</td>\n",
              "      <td>857.0</td>\n",
              "      <td>1.0</td>\n",
              "      <td>20.0</td>\n",
              "      <td>0.0</td>\n",
              "      <td>1110-857</td>\n",
              "      <td>50.000</td>\n",
              "      <td>0.0</td>\n",
              "      <td>6.0</td>\n",
              "    </tr>\n",
              "  </tbody>\n",
              "</table>\n",
              "<p>2300 rows × 12 columns</p>\n",
              "</div>\n",
              "    <div class=\"colab-df-buttons\">\n",
              "\n",
              "  <div class=\"colab-df-container\">\n",
              "    <button class=\"colab-df-convert\" onclick=\"convertToInteractive('df-4b8a106a-f31b-4cc6-88f3-311fed6584b7')\"\n",
              "            title=\"Convert this dataframe to an interactive table.\"\n",
              "            style=\"display:none;\">\n",
              "\n",
              "  <svg xmlns=\"http://www.w3.org/2000/svg\" height=\"24px\" viewBox=\"0 -960 960 960\">\n",
              "    <path d=\"M120-120v-720h720v720H120Zm60-500h600v-160H180v160Zm220 220h160v-160H400v160Zm0 220h160v-160H400v160ZM180-400h160v-160H180v160Zm440 0h160v-160H620v160ZM180-180h160v-160H180v160Zm440 0h160v-160H620v160Z\"/>\n",
              "  </svg>\n",
              "    </button>\n",
              "\n",
              "  <style>\n",
              "    .colab-df-container {\n",
              "      display:flex;\n",
              "      gap: 12px;\n",
              "    }\n",
              "\n",
              "    .colab-df-convert {\n",
              "      background-color: #E8F0FE;\n",
              "      border: none;\n",
              "      border-radius: 50%;\n",
              "      cursor: pointer;\n",
              "      display: none;\n",
              "      fill: #1967D2;\n",
              "      height: 32px;\n",
              "      padding: 0 0 0 0;\n",
              "      width: 32px;\n",
              "    }\n",
              "\n",
              "    .colab-df-convert:hover {\n",
              "      background-color: #E2EBFA;\n",
              "      box-shadow: 0px 1px 2px rgba(60, 64, 67, 0.3), 0px 1px 3px 1px rgba(60, 64, 67, 0.15);\n",
              "      fill: #174EA6;\n",
              "    }\n",
              "\n",
              "    .colab-df-buttons div {\n",
              "      margin-bottom: 4px;\n",
              "    }\n",
              "\n",
              "    [theme=dark] .colab-df-convert {\n",
              "      background-color: #3B4455;\n",
              "      fill: #D2E3FC;\n",
              "    }\n",
              "\n",
              "    [theme=dark] .colab-df-convert:hover {\n",
              "      background-color: #434B5C;\n",
              "      box-shadow: 0px 1px 3px 1px rgba(0, 0, 0, 0.15);\n",
              "      filter: drop-shadow(0px 1px 2px rgba(0, 0, 0, 0.3));\n",
              "      fill: #FFFFFF;\n",
              "    }\n",
              "  </style>\n",
              "\n",
              "    <script>\n",
              "      const buttonEl =\n",
              "        document.querySelector('#df-4b8a106a-f31b-4cc6-88f3-311fed6584b7 button.colab-df-convert');\n",
              "      buttonEl.style.display =\n",
              "        google.colab.kernel.accessAllowed ? 'block' : 'none';\n",
              "\n",
              "      async function convertToInteractive(key) {\n",
              "        const element = document.querySelector('#df-4b8a106a-f31b-4cc6-88f3-311fed6584b7');\n",
              "        const dataTable =\n",
              "          await google.colab.kernel.invokeFunction('convertToInteractive',\n",
              "                                                    [key], {});\n",
              "        if (!dataTable) return;\n",
              "\n",
              "        const docLinkHtml = 'Like what you see? Visit the ' +\n",
              "          '<a target=\"_blank\" href=https://colab.research.google.com/notebooks/data_table.ipynb>data table notebook</a>'\n",
              "          + ' to learn more about interactive tables.';\n",
              "        element.innerHTML = '';\n",
              "        dataTable['output_type'] = 'display_data';\n",
              "        await google.colab.output.renderOutput(dataTable, element);\n",
              "        const docLink = document.createElement('div');\n",
              "        docLink.innerHTML = docLinkHtml;\n",
              "        element.appendChild(docLink);\n",
              "      }\n",
              "    </script>\n",
              "  </div>\n",
              "\n",
              "\n",
              "<div id=\"df-a464311e-9ada-483a-b418-3db894858434\">\n",
              "  <button class=\"colab-df-quickchart\" onclick=\"quickchart('df-a464311e-9ada-483a-b418-3db894858434')\"\n",
              "            title=\"Suggest charts\"\n",
              "            style=\"display:none;\">\n",
              "\n",
              "<svg xmlns=\"http://www.w3.org/2000/svg\" height=\"24px\"viewBox=\"0 0 24 24\"\n",
              "     width=\"24px\">\n",
              "    <g>\n",
              "        <path d=\"M19 3H5c-1.1 0-2 .9-2 2v14c0 1.1.9 2 2 2h14c1.1 0 2-.9 2-2V5c0-1.1-.9-2-2-2zM9 17H7v-7h2v7zm4 0h-2V7h2v10zm4 0h-2v-4h2v4z\"/>\n",
              "    </g>\n",
              "</svg>\n",
              "  </button>\n",
              "\n",
              "<style>\n",
              "  .colab-df-quickchart {\n",
              "      --bg-color: #E8F0FE;\n",
              "      --fill-color: #1967D2;\n",
              "      --hover-bg-color: #E2EBFA;\n",
              "      --hover-fill-color: #174EA6;\n",
              "      --disabled-fill-color: #AAA;\n",
              "      --disabled-bg-color: #DDD;\n",
              "  }\n",
              "\n",
              "  [theme=dark] .colab-df-quickchart {\n",
              "      --bg-color: #3B4455;\n",
              "      --fill-color: #D2E3FC;\n",
              "      --hover-bg-color: #434B5C;\n",
              "      --hover-fill-color: #FFFFFF;\n",
              "      --disabled-bg-color: #3B4455;\n",
              "      --disabled-fill-color: #666;\n",
              "  }\n",
              "\n",
              "  .colab-df-quickchart {\n",
              "    background-color: var(--bg-color);\n",
              "    border: none;\n",
              "    border-radius: 50%;\n",
              "    cursor: pointer;\n",
              "    display: none;\n",
              "    fill: var(--fill-color);\n",
              "    height: 32px;\n",
              "    padding: 0;\n",
              "    width: 32px;\n",
              "  }\n",
              "\n",
              "  .colab-df-quickchart:hover {\n",
              "    background-color: var(--hover-bg-color);\n",
              "    box-shadow: 0 1px 2px rgba(60, 64, 67, 0.3), 0 1px 3px 1px rgba(60, 64, 67, 0.15);\n",
              "    fill: var(--button-hover-fill-color);\n",
              "  }\n",
              "\n",
              "  .colab-df-quickchart-complete:disabled,\n",
              "  .colab-df-quickchart-complete:disabled:hover {\n",
              "    background-color: var(--disabled-bg-color);\n",
              "    fill: var(--disabled-fill-color);\n",
              "    box-shadow: none;\n",
              "  }\n",
              "\n",
              "  .colab-df-spinner {\n",
              "    border: 2px solid var(--fill-color);\n",
              "    border-color: transparent;\n",
              "    border-bottom-color: var(--fill-color);\n",
              "    animation:\n",
              "      spin 1s steps(1) infinite;\n",
              "  }\n",
              "\n",
              "  @keyframes spin {\n",
              "    0% {\n",
              "      border-color: transparent;\n",
              "      border-bottom-color: var(--fill-color);\n",
              "      border-left-color: var(--fill-color);\n",
              "    }\n",
              "    20% {\n",
              "      border-color: transparent;\n",
              "      border-left-color: var(--fill-color);\n",
              "      border-top-color: var(--fill-color);\n",
              "    }\n",
              "    30% {\n",
              "      border-color: transparent;\n",
              "      border-left-color: var(--fill-color);\n",
              "      border-top-color: var(--fill-color);\n",
              "      border-right-color: var(--fill-color);\n",
              "    }\n",
              "    40% {\n",
              "      border-color: transparent;\n",
              "      border-right-color: var(--fill-color);\n",
              "      border-top-color: var(--fill-color);\n",
              "    }\n",
              "    60% {\n",
              "      border-color: transparent;\n",
              "      border-right-color: var(--fill-color);\n",
              "    }\n",
              "    80% {\n",
              "      border-color: transparent;\n",
              "      border-right-color: var(--fill-color);\n",
              "      border-bottom-color: var(--fill-color);\n",
              "    }\n",
              "    90% {\n",
              "      border-color: transparent;\n",
              "      border-bottom-color: var(--fill-color);\n",
              "    }\n",
              "  }\n",
              "</style>\n",
              "\n",
              "  <script>\n",
              "    async function quickchart(key) {\n",
              "      const quickchartButtonEl =\n",
              "        document.querySelector('#' + key + ' button');\n",
              "      quickchartButtonEl.disabled = true;  // To prevent multiple clicks.\n",
              "      quickchartButtonEl.classList.add('colab-df-spinner');\n",
              "      try {\n",
              "        const charts = await google.colab.kernel.invokeFunction(\n",
              "            'suggestCharts', [key], {});\n",
              "      } catch (error) {\n",
              "        console.error('Error during call to suggestCharts:', error);\n",
              "      }\n",
              "      quickchartButtonEl.classList.remove('colab-df-spinner');\n",
              "      quickchartButtonEl.classList.add('colab-df-quickchart-complete');\n",
              "    }\n",
              "    (() => {\n",
              "      let quickchartButtonEl =\n",
              "        document.querySelector('#df-a464311e-9ada-483a-b418-3db894858434 button');\n",
              "      quickchartButtonEl.style.display =\n",
              "        google.colab.kernel.accessAllowed ? 'block' : 'none';\n",
              "    })();\n",
              "  </script>\n",
              "</div>\n",
              "    </div>\n",
              "  </div>\n"
            ],
            "application/vnd.google.colaboratory.intrinsic+json": {
              "type": "dataframe",
              "variable_name": "data",
              "summary": "{\n  \"name\": \"data\",\n  \"rows\": 2300,\n  \"fields\": [\n    {\n      \"column\": \"resultId\",\n      \"properties\": {\n        \"dtype\": \"number\",\n        \"std\": 665.575119492137,\n        \"min\": 23782.0,\n        \"max\": 26085.0,\n        \"num_unique_values\": 2297,\n        \"samples\": [\n          24209.0,\n          25081.0,\n          23991.0\n        ],\n        \"semantic_type\": \"\",\n        \"description\": \"\"\n      }\n    },\n    {\n      \"column\": \"circuitID\",\n      \"properties\": {\n        \"dtype\": \"number\",\n        \"std\": 27.208062873857862,\n        \"min\": 1.0,\n        \"max\": 79.0,\n        \"num_unique_values\": 30,\n        \"samples\": [\n          78.0,\n          71.0,\n          75.0\n        ],\n        \"semantic_type\": \"\",\n        \"description\": \"\"\n      }\n    },\n    {\n      \"column\": \"Weather\",\n      \"properties\": {\n        \"dtype\": \"number\",\n        \"std\": 0.34634736218469914,\n        \"min\": 0.0,\n        \"max\": 1.0,\n        \"num_unique_values\": 2,\n        \"samples\": [\n          1.0,\n          0.0\n        ],\n        \"semantic_type\": \"\",\n        \"description\": \"\"\n      }\n    },\n    {\n      \"column\": \"raceId\",\n      \"properties\": {\n        \"dtype\": \"number\",\n        \"std\": 35.41537761398894,\n        \"min\": 989.0,\n        \"max\": 1110.0,\n        \"num_unique_values\": 115,\n        \"samples\": [\n          1074.0,\n          993.0\n        ],\n        \"semantic_type\": \"\",\n        \"description\": \"\"\n      }\n    },\n    {\n      \"column\": \"driverId\",\n      \"properties\": {\n        \"dtype\": \"number\",\n        \"std\": 322.40008348153333,\n        \"min\": 1.0,\n        \"max\": 858.0,\n        \"num_unique_values\": 34,\n        \"samples\": [\n          154.0,\n          845.0\n        ],\n        \"semantic_type\": \"\",\n        \"description\": \"\"\n      }\n    },\n    {\n      \"column\": \"constructorId\",\n      \"properties\": {\n        \"dtype\": \"number\",\n        \"std\": 87.04469465381487,\n        \"min\": 1.0,\n        \"max\": 214.0,\n        \"num_unique_values\": 15,\n        \"samples\": [\n          210.0,\n          211.0\n        ],\n        \"semantic_type\": \"\",\n        \"description\": \"\"\n      }\n    },\n    {\n      \"column\": \"positionOrder\",\n      \"properties\": {\n        \"dtype\": \"number\",\n        \"std\": 5.765830618349736,\n        \"min\": 1.0,\n        \"max\": 20.0,\n        \"num_unique_values\": 20,\n        \"samples\": [\n          1.0,\n          18.0\n        ],\n        \"semantic_type\": \"\",\n        \"description\": \"\"\n      }\n    },\n    {\n      \"column\": \"laps\",\n      \"properties\": {\n        \"dtype\": \"number\",\n        \"std\": 17.59266016619816,\n        \"min\": 0.0,\n        \"max\": 87.0,\n        \"num_unique_values\": 78,\n        \"samples\": [\n          50.0,\n          58.0\n        ],\n        \"semantic_type\": \"\",\n        \"description\": \"\"\n      }\n    },\n    {\n      \"column\": \"pit_id\",\n      \"properties\": {\n        \"dtype\": \"string\",\n        \"num_unique_values\": 2297,\n        \"samples\": [\n          \"1010-807\",\n          \"1057-849\"\n        ],\n        \"semantic_type\": \"\",\n        \"description\": \"\"\n      }\n    },\n    {\n      \"column\": \"pit stops duration\",\n      \"properties\": {\n        \"dtype\": \"number\",\n        \"std\": 11.083159597072303,\n        \"min\": 3.314,\n        \"max\": 97.164,\n        \"num_unique_values\": 1956,\n        \"samples\": [\n          25.63,\n          24.026\n        ],\n        \"semantic_type\": \"\",\n        \"description\": \"\"\n      }\n    },\n    {\n      \"column\": \"# of pitstops\",\n      \"properties\": {\n        \"dtype\": \"number\",\n        \"std\": 1.0018614006911382,\n        \"min\": 0.0,\n        \"max\": 6.0,\n        \"num_unique_values\": 7,\n        \"samples\": [\n          1.0,\n          2.0\n        ],\n        \"semantic_type\": \"\",\n        \"description\": \"\"\n      }\n    },\n    {\n      \"column\": \"quali_ position\",\n      \"properties\": {\n        \"dtype\": \"number\",\n        \"std\": 5.763712201813562,\n        \"min\": 1.0,\n        \"max\": 20.0,\n        \"num_unique_values\": 20,\n        \"samples\": [\n          3.0,\n          20.0\n        ],\n        \"semantic_type\": \"\",\n        \"description\": \"\"\n      }\n    }\n  ]\n}"
            }
          },
          "metadata": {},
          "execution_count": 16
        }
      ],
      "source": [
        "data"
      ]
    },
    {
      "cell_type": "code",
      "source": [],
      "metadata": {
        "id": "If3eODwn04QR"
      },
      "execution_count": null,
      "outputs": []
    },
    {
      "cell_type": "code",
      "execution_count": null,
      "metadata": {
        "colab": {
          "base_uri": "https://localhost:8080/",
          "height": 472
        },
        "id": "BPhLsc5_AMpX",
        "outputId": "6084333e-3238-46d4-c220-2a716bcd9077"
      },
      "outputs": [
        {
          "output_type": "display_data",
          "data": {
            "text/plain": [
              "<Figure size 640x480 with 1 Axes>"
            ],
            "image/png": "[encoded data removed]"
          },
          "metadata": {}
        }
      ],
      "source": [
        "plt.scatter(data[\"constructorId\"], data[\"positionOrder\"])\n",
        "plt.xlabel(\"Constructor ID\")\n",
        "plt.ylabel(\"Position Order\")\n",
        "plt.title(\"Constructor Position Order\")\n",
        "plt.show()"
      ]
    },
    {
      "cell_type": "code",
      "execution_count": 7,
      "metadata": {
        "id": "d9ldspgfeKQt"
      },
      "outputs": [],
      "source": [
        "dataclean = data.dropna()"
      ]
    },
    {
      "cell_type": "code",
      "execution_count": 8,
      "metadata": {
        "id": "jHp0NpwtfCH0"
      },
      "outputs": [],
      "source": [
        "Y = dataclean[\"positionOrder\"]\n",
        "X = dataclean[[\"circuitID\", \"Weather\", \"driverId\", \"constructorId\", \"quali_ position\"]]"
      ]
    },
    {
      "cell_type": "code",
      "execution_count": null,
      "metadata": {
        "id": "CjxIvo4Jf9z8"
      },
      "outputs": [],
      "source": [
        "reg = LR.fit(X, Y)"
      ]
    },
    {
      "cell_type": "code",
      "execution_count": null,
      "metadata": {
        "colab": {
          "base_uri": "https://localhost:8080/"
        },
        "id": "8xLT-cjfgLa0",
        "outputId": "287ad238-a31b-48a5-d6ae-494f8b853642"
      },
      "outputs": [
        {
          "output_type": "execute_result",
          "data": {
            "text/plain": [
              "0.38511477370141767"
            ]
          },
          "metadata": {},
          "execution_count": 23
        }
      ],
      "source": [
        "reg.score(X, Y)"
      ]
    },
    {
      "cell_type": "code",
      "execution_count": null,
      "metadata": {
        "colab": {
          "base_uri": "https://localhost:8080/"
        },
        "id": "wS_BApLygV-Z",
        "outputId": "d5e01425-9895-4d41-c454-6bf8a0903e85"
      },
      "outputs": [
        {
          "output_type": "stream",
          "name": "stdout",
          "text": [
            "[ 3.13026452e+00 -5.75044006e-04 -7.22220054e-02  1.14115650e-03\n",
            "  3.66106068e-03  6.03589115e-01]\n"
          ]
        }
      ],
      "source": [
        "N = len(X)\n",
        "p = len(X.columns) + 1  # plus one because LinearRegression adds an intercept term\n",
        "\n",
        "X_with_intercept = np.empty(shape=(N, p), dtype=float)\n",
        "X_with_intercept[:, 0] = 1\n",
        "X_with_intercept[:, 1:p] = X.values\n",
        "\n",
        "beta_hat = np.linalg.inv(X_with_intercept.T @ X_with_intercept) @ X_with_intercept.T @ Y.values\n",
        "print(beta_hat)"
      ]
    },
    {
      "cell_type": "code",
      "execution_count": null,
      "metadata": {
        "colab": {
          "base_uri": "https://localhost:8080/",
          "height": 238
        },
        "id": "Ps61D7lyhC2U",
        "outputId": "a84c97da-c383-4b99-f8bd-7d8c4fce9425"
      },
      "outputs": [
        {
          "output_type": "stream",
          "name": "stdout",
          "text": [
            "46934.23054771771\n"
          ]
        },
        {
          "output_type": "error",
          "ename": "IndexError",
          "evalue": "invalid index to scalar variable.",
          "traceback": [
            "\u001b[0;31m---------------------------------------------------------------------------\u001b[0m",
            "\u001b[0;31mIndexError\u001b[0m                                Traceback (most recent call last)",
            "\u001b[0;32m<ipython-input-25-d7e1d8177b98>\u001b[0m in \u001b[0;36m<cell line: 5>\u001b[0;34m()\u001b[0m\n\u001b[1;32m      3\u001b[0m \u001b[0mresidual_sum_of_squares\u001b[0m \u001b[0;34m=\u001b[0m \u001b[0mresiduals\u001b[0m\u001b[0;34m.\u001b[0m\u001b[0mT\u001b[0m \u001b[0;34m@\u001b[0m \u001b[0mresiduals\u001b[0m\u001b[0;34m\u001b[0m\u001b[0;34m\u001b[0m\u001b[0m\n\u001b[1;32m      4\u001b[0m \u001b[0mprint\u001b[0m\u001b[0;34m(\u001b[0m\u001b[0mresidual_sum_of_squares\u001b[0m\u001b[0;34m)\u001b[0m\u001b[0;34m\u001b[0m\u001b[0;34m\u001b[0m\u001b[0m\n\u001b[0;32m----> 5\u001b[0;31m \u001b[0msigma_squared_hat\u001b[0m \u001b[0;34m=\u001b[0m \u001b[0mresidual_sum_of_squares\u001b[0m\u001b[0;34m[\u001b[0m\u001b[0;36m0\u001b[0m\u001b[0;34m]\u001b[0m \u001b[0;34m/\u001b[0m \u001b[0;34m(\u001b[0m\u001b[0mN\u001b[0m \u001b[0;34m-\u001b[0m \u001b[0mp\u001b[0m\u001b[0;34m)\u001b[0m\u001b[0;34m\u001b[0m\u001b[0;34m\u001b[0m\u001b[0m\n\u001b[0m\u001b[1;32m      6\u001b[0m \u001b[0mvar_beta_hat\u001b[0m \u001b[0;34m=\u001b[0m \u001b[0mnp\u001b[0m\u001b[0;34m.\u001b[0m\u001b[0mlinalg\u001b[0m\u001b[0;34m.\u001b[0m\u001b[0minv\u001b[0m\u001b[0;34m(\u001b[0m\u001b[0mX_with_intercept\u001b[0m\u001b[0;34m.\u001b[0m\u001b[0mT\u001b[0m \u001b[0;34m@\u001b[0m \u001b[0mX_with_intercept\u001b[0m\u001b[0;34m)\u001b[0m \u001b[0;34m*\u001b[0m \u001b[0msigma_squared_hat\u001b[0m\u001b[0;34m\u001b[0m\u001b[0;34m\u001b[0m\u001b[0m\n\u001b[1;32m      7\u001b[0m \u001b[0;32mfor\u001b[0m \u001b[0mp_\u001b[0m \u001b[0;32min\u001b[0m \u001b[0mrange\u001b[0m\u001b[0;34m(\u001b[0m\u001b[0mp\u001b[0m\u001b[0;34m)\u001b[0m\u001b[0;34m:\u001b[0m\u001b[0;34m\u001b[0m\u001b[0;34m\u001b[0m\u001b[0m\n",
            "\u001b[0;31mIndexError\u001b[0m: invalid index to scalar variable."
          ]
        }
      ],
      "source": [
        "y_hat = reg.predict(X)\n",
        "residuals = Y.values - y_hat\n",
        "residual_sum_of_squares = residuals.T @ residuals\n",
        "print(residual_sum_of_squares)\n",
        "sigma_squared_hat = residual_sum_of_squares[0] / (N - p)\n",
        "var_beta_hat = np.linalg.inv(X_with_intercept.T @ X_with_intercept) * sigma_squared_hat\n",
        "for p_ in range(p):\n",
        "    tandard_error = var_beta_hat[p_, p_] ** 0.5\n",
        "    print(f\"SE(beta_hat[{p_}]): {standard_error}\")"
      ]
    },
    {
      "cell_type": "code",
      "execution_count": null,
      "metadata": {
        "colab": {
          "base_uri": "https://localhost:8080/",
          "height": 567
        },
        "id": "uQIKeZHKhSaX",
        "outputId": "5298a046-89e4-4bde-97fa-a7d07a9544d2"
      },
      "outputs": [
        {
          "output_type": "execute_result",
          "data": {
            "text/plain": [
              "<class 'statsmodels.iolib.summary.Summary'>\n",
              "\"\"\"\n",
              "                            OLS Regression Results                            \n",
              "==============================================================================\n",
              "Dep. Variable:                      y   R-squared:                       0.385\n",
              "Model:                            OLS   Adj. R-squared:                  0.384\n",
              "Method:                 Least Squares   F-statistic:                     287.0\n",
              "Date:                Fri, 10 May 2024   Prob (F-statistic):          8.10e-239\n",
              "Time:                        23:50:19   Log-Likelihood:                -6724.5\n",
              "No. Observations:                2297   AIC:                         1.346e+04\n",
              "Df Residuals:                    2291   BIC:                         1.350e+04\n",
              "Df Model:                           5                                         \n",
              "Covariance Type:            nonrobust                                         \n",
              "==============================================================================\n",
              "                 coef    std err          t      P>|t|      [0.025      0.975]\n",
              "------------------------------------------------------------------------------\n",
              "const          3.1303      0.303     10.348      0.000       2.537       3.723\n",
              "x1            -0.0006      0.004     -0.162      0.871      -0.008       0.006\n",
              "x2            -0.0722      0.279     -0.259      0.796      -0.619       0.475\n",
              "x3             0.0011      0.000      3.825      0.000       0.001       0.002\n",
              "x4             0.0037      0.001      3.323      0.001       0.002       0.006\n",
              "x5             0.6036      0.017     36.370      0.000       0.571       0.636\n",
              "==============================================================================\n",
              "Omnibus:                      237.441   Durbin-Watson:                   1.027\n",
              "Prob(Omnibus):                  0.000   Jarque-Bera (JB):              317.530\n",
              "Skew:                           0.844   Prob(JB):                     1.12e-69\n",
              "Kurtosis:                       3.683   Cond. No.                     2.53e+03\n",
              "==============================================================================\n",
              "\n",
              "Notes:\n",
              "[1] Standard Errors assume that the covariance matrix of the errors is correctly specified.\n",
              "[2] The condition number is large, 2.53e+03. This might indicate that there are\n",
              "strong multicollinearity or other numerical problems.\n",
              "\"\"\""
            ],
            "text/html": [
              "<table class=\"simpletable\">\n",
              "<caption>OLS Regression Results</caption>\n",
              "<tr>\n",
              "  <th>Dep. Variable:</th>            <td>y</td>        <th>  R-squared:         </th> <td>   0.385</td> \n",
              "</tr>\n",
              "<tr>\n",
              "  <th>Model:</th>                   <td>OLS</td>       <th>  Adj. R-squared:    </th> <td>   0.384</td> \n",
              "</tr>\n",
              "<tr>\n",
              "  <th>Method:</th>             <td>Least Squares</td>  <th>  F-statistic:       </th> <td>   287.0</td> \n",
              "</tr>\n",
              "<tr>\n",
              "  <th>Date:</th>             <td>Fri, 10 May 2024</td> <th>  Prob (F-statistic):</th> <td>8.10e-239</td>\n",
              "</tr>\n",
              "<tr>\n",
              "  <th>Time:</th>                 <td>23:50:19</td>     <th>  Log-Likelihood:    </th> <td> -6724.5</td> \n",
              "</tr>\n",
              "<tr>\n",
              "  <th>No. Observations:</th>      <td>  2297</td>      <th>  AIC:               </th> <td>1.346e+04</td>\n",
              "</tr>\n",
              "<tr>\n",
              "  <th>Df Residuals:</th>          <td>  2291</td>      <th>  BIC:               </th> <td>1.350e+04</td>\n",
              "</tr>\n",
              "<tr>\n",
              "  <th>Df Model:</th>              <td>     5</td>      <th>                     </th>     <td> </td>    \n",
              "</tr>\n",
              "<tr>\n",
              "  <th>Covariance Type:</th>      <td>nonrobust</td>    <th>                     </th>     <td> </td>    \n",
              "</tr>\n",
              "</table>\n",
              "<table class=\"simpletable\">\n",
              "<tr>\n",
              "    <td></td>       <th>coef</th>     <th>std err</th>      <th>t</th>      <th>P>|t|</th>  <th>[0.025</th>    <th>0.975]</th>  \n",
              "</tr>\n",
              "<tr>\n",
              "  <th>const</th> <td>    3.1303</td> <td>    0.303</td> <td>   10.348</td> <td> 0.000</td> <td>    2.537</td> <td>    3.723</td>\n",
              "</tr>\n",
              "<tr>\n",
              "  <th>x1</th>    <td>   -0.0006</td> <td>    0.004</td> <td>   -0.162</td> <td> 0.871</td> <td>   -0.008</td> <td>    0.006</td>\n",
              "</tr>\n",
              "<tr>\n",
              "  <th>x2</th>    <td>   -0.0722</td> <td>    0.279</td> <td>   -0.259</td> <td> 0.796</td> <td>   -0.619</td> <td>    0.475</td>\n",
              "</tr>\n",
              "<tr>\n",
              "  <th>x3</th>    <td>    0.0011</td> <td>    0.000</td> <td>    3.825</td> <td> 0.000</td> <td>    0.001</td> <td>    0.002</td>\n",
              "</tr>\n",
              "<tr>\n",
              "  <th>x4</th>    <td>    0.0037</td> <td>    0.001</td> <td>    3.323</td> <td> 0.001</td> <td>    0.002</td> <td>    0.006</td>\n",
              "</tr>\n",
              "<tr>\n",
              "  <th>x5</th>    <td>    0.6036</td> <td>    0.017</td> <td>   36.370</td> <td> 0.000</td> <td>    0.571</td> <td>    0.636</td>\n",
              "</tr>\n",
              "</table>\n",
              "<table class=\"simpletable\">\n",
              "<tr>\n",
              "  <th>Omnibus:</th>       <td>237.441</td> <th>  Durbin-Watson:     </th> <td>   1.027</td>\n",
              "</tr>\n",
              "<tr>\n",
              "  <th>Prob(Omnibus):</th> <td> 0.000</td>  <th>  Jarque-Bera (JB):  </th> <td> 317.530</td>\n",
              "</tr>\n",
              "<tr>\n",
              "  <th>Skew:</th>          <td> 0.844</td>  <th>  Prob(JB):          </th> <td>1.12e-69</td>\n",
              "</tr>\n",
              "<tr>\n",
              "  <th>Kurtosis:</th>      <td> 3.683</td>  <th>  Cond. No.          </th> <td>2.53e+03</td>\n",
              "</tr>\n",
              "</table><br/><br/>Notes:<br/>[1] Standard Errors assume that the covariance matrix of the errors is correctly specified.<br/>[2] The condition number is large, 2.53e+03. This might indicate that there are<br/>strong multicollinearity or other numerical problems."
            ],
            "text/latex": "\\begin{center}\n\\begin{tabular}{lclc}\n\\toprule\n\\textbf{Dep. Variable:}    &        y         & \\textbf{  R-squared:         } &     0.385   \\\\\n\\textbf{Model:}            &       OLS        & \\textbf{  Adj. R-squared:    } &     0.384   \\\\\n\\textbf{Method:}           &  Least Squares   & \\textbf{  F-statistic:       } &     287.0   \\\\\n\\textbf{Date:}             & Fri, 10 May 2024 & \\textbf{  Prob (F-statistic):} & 8.10e-239   \\\\\n\\textbf{Time:}             &     23:50:19     & \\textbf{  Log-Likelihood:    } &   -6724.5   \\\\\n\\textbf{No. Observations:} &        2297      & \\textbf{  AIC:               } & 1.346e+04   \\\\\n\\textbf{Df Residuals:}     &        2291      & \\textbf{  BIC:               } & 1.350e+04   \\\\\n\\textbf{Df Model:}         &           5      & \\textbf{                     } &             \\\\\n\\textbf{Covariance Type:}  &    nonrobust     & \\textbf{                     } &             \\\\\n\\bottomrule\n\\end{tabular}\n\\begin{tabular}{lcccccc}\n               & \\textbf{coef} & \\textbf{std err} & \\textbf{t} & \\textbf{P$> |$t$|$} & \\textbf{[0.025} & \\textbf{0.975]}  \\\\\n\\midrule\n\\textbf{const} &       3.1303  &        0.303     &    10.348  &         0.000        &        2.537    &        3.723     \\\\\n\\textbf{x1}    &      -0.0006  &        0.004     &    -0.162  &         0.871        &       -0.008    &        0.006     \\\\\n\\textbf{x2}    &      -0.0722  &        0.279     &    -0.259  &         0.796        &       -0.619    &        0.475     \\\\\n\\textbf{x3}    &       0.0011  &        0.000     &     3.825  &         0.000        &        0.001    &        0.002     \\\\\n\\textbf{x4}    &       0.0037  &        0.001     &     3.323  &         0.001        &        0.002    &        0.006     \\\\\n\\textbf{x5}    &       0.6036  &        0.017     &    36.370  &         0.000        &        0.571    &        0.636     \\\\\n\\bottomrule\n\\end{tabular}\n\\begin{tabular}{lclc}\n\\textbf{Omnibus:}       & 237.441 & \\textbf{  Durbin-Watson:     } &    1.027  \\\\\n\\textbf{Prob(Omnibus):} &   0.000 & \\textbf{  Jarque-Bera (JB):  } &  317.530  \\\\\n\\textbf{Skew:}          &   0.844 & \\textbf{  Prob(JB):          } & 1.12e-69  \\\\\n\\textbf{Kurtosis:}      &   3.683 & \\textbf{  Cond. No.          } & 2.53e+03  \\\\\n\\bottomrule\n\\end{tabular}\n%\\caption{OLS Regression Results}\n\\end{center}\n\nNotes: \\newline\n [1] Standard Errors assume that the covariance matrix of the errors is correctly specified. \\newline\n [2] The condition number is large, 2.53e+03. This might indicate that there are \\newline\n strong multicollinearity or other numerical problems."
          },
          "metadata": {},
          "execution_count": 26
        }
      ],
      "source": [
        "import statsmodels.api as sm\n",
        "ols = sm.OLS(Y.values, X_with_intercept)\n",
        "ols_result = ols.fit()\n",
        "ols_result.summary()"
      ]
    },
    {
      "cell_type": "code",
      "execution_count": null,
      "metadata": {
        "colab": {
          "base_uri": "https://localhost:8080/",
          "height": 521
        },
        "id": "ygH4DiCVhoWY",
        "outputId": "8ba62ac3-cf3c-4ca9-ec08-23ccfca8f08e"
      },
      "outputs": [
        {
          "output_type": "execute_result",
          "data": {
            "text/plain": [
              "(array([  6.,  26., 124., 719., 603., 406., 193., 113.,  81.,  26.]),\n",
              " array([-14.06910612, -11.09645093,  -8.12379574,  -5.15114055,\n",
              "         -2.17848536,   0.79416983,   3.76682503,   6.73948022,\n",
              "          9.71213541,  12.6847906 ,  15.65744579]),\n",
              " <BarContainer object of 10 artists>)"
            ]
          },
          "metadata": {},
          "execution_count": 27
        },
        {
          "output_type": "display_data",
          "data": {
            "text/plain": [
              "<Figure size 640x480 with 1 Axes>"
            ],
            "image/png": "[encoded data removed]"
          },
          "metadata": {}
        }
      ],
      "source": [
        "import matplotlib.pyplot as plt\n",
        "\n",
        "plt.hist(residuals)"
      ]
    },
    {
      "cell_type": "code",
      "execution_count": null,
      "metadata": {
        "id": "kHL1Coj8kMOD"
      },
      "outputs": [],
      "source": [
        "from sklearn import preprocessing\n",
        "from sklearn.preprocessing import PolynomialFeatures"
      ]
    },
    {
      "cell_type": "code",
      "execution_count": null,
      "metadata": {
        "id": "ziBZ_eOIlPLn"
      },
      "outputs": [],
      "source": [
        "poly = PolynomialFeatures(interaction_only = False, include_bias = False)\n",
        "X = poly.fit_transform(X)"
      ]
    },
    {
      "cell_type": "code",
      "execution_count": null,
      "metadata": {
        "id": "2c-J4XhClZUM"
      },
      "outputs": [],
      "source": [
        "reg = LR.fit(X, Y)"
      ]
    },
    {
      "cell_type": "code",
      "execution_count": null,
      "metadata": {
        "colab": {
          "base_uri": "https://localhost:8080/"
        },
        "id": "pkDVOsdqlkHM",
        "outputId": "f198b236-0c2a-4218-bc13-351f84707d26"
      },
      "outputs": [
        {
          "output_type": "execute_result",
          "data": {
            "text/plain": [
              "0.4033935046837256"
            ]
          },
          "metadata": {},
          "execution_count": 31
        }
      ],
      "source": [
        "reg.score(X, Y)"
      ]
    },
    {
      "cell_type": "code",
      "execution_count": null,
      "metadata": {
        "id": "YGbFSNKalmOp"
      },
      "outputs": [],
      "source": [
        "N = len(X)\n",
        "p = len(pd.DataFrame(X).columns) + 1  # plus one because LinearRegression adds an intercept term\n",
        "\n",
        "X_with_intercept = np.empty(shape=(N, p), dtype=float)\n",
        "X_with_intercept[:, 0] = 1\n",
        "X_with_intercept[:, 1:p] = pd.DataFrame(X).values\n",
        "\n",
        "#beta_hat = np.linalg.inv(X_with_intercept.T @ X_with_intercept) @ X_with_intercept.T @ Y.values\n",
        "#print(beta_hat)"
      ]
    },
    {
      "cell_type": "code",
      "execution_count": null,
      "metadata": {
        "id": "b9uOxFXpnFJv"
      },
      "outputs": [],
      "source": []
    },
    {
      "cell_type": "markdown",
      "metadata": {
        "id": "Ha8hs8eqqY26"
      },
      "source": [
        "# Categorical Neural Network"
      ]
    },
    {
      "cell_type": "code",
      "execution_count": 9,
      "metadata": {
        "colab": {
          "base_uri": "https://localhost:8080/"
        },
        "id": "oX5dfVEkqeMo",
        "outputId": "d6fd3604-f8a1-46d4-c37e-0f5215c98579"
      },
      "outputs": [
        {
          "output_type": "stream",
          "name": "stdout",
          "text": [
            "Requirement already satisfied: tensorflow in /usr/local/lib/python3.10/dist-packages (2.15.0)\n",
            "Requirement already satisfied: absl-py>=1.0.0 in /usr/local/lib/python3.10/dist-packages (from tensorflow) (1.4.0)\n",
            "Requirement already satisfied: astunparse>=1.6.0 in /usr/local/lib/python3.10/dist-packages (from tensorflow) (1.6.3)\n",
            "Requirement already satisfied: flatbuffers>=23.5.26 in /usr/local/lib/python3.10/dist-packages (from tensorflow) (24.3.25)\n",
            "Requirement already satisfied: gast!=0.5.0,!=0.5.1,!=0.5.2,>=0.2.1 in /usr/local/lib/python3.10/dist-packages (from tensorflow) (0.5.4)\n",
            "Requirement already satisfied: google-pasta>=0.1.1 in /usr/local/lib/python3.10/dist-packages (from tensorflow) (0.2.0)\n",
            "Requirement already satisfied: h5py>=2.9.0 in /usr/local/lib/python3.10/dist-packages (from tensorflow) (3.9.0)\n",
            "Requirement already satisfied: libclang>=13.0.0 in /usr/local/lib/python3.10/dist-packages (from tensorflow) (18.1.1)\n",
            "Requirement already satisfied: ml-dtypes~=0.2.0 in /usr/local/lib/python3.10/dist-packages (from tensorflow) (0.2.0)\n",
            "Requirement already satisfied: numpy<2.0.0,>=1.23.5 in /usr/local/lib/python3.10/dist-packages (from tensorflow) (1.25.2)\n",
            "Requirement already satisfied: opt-einsum>=2.3.2 in /usr/local/lib/python3.10/dist-packages (from tensorflow) (3.3.0)\n",
            "Requirement already satisfied: packaging in /usr/local/lib/python3.10/dist-packages (from tensorflow) (24.0)\n",
            "Requirement already satisfied: protobuf!=4.21.0,!=4.21.1,!=4.21.2,!=4.21.3,!=4.21.4,!=4.21.5,<5.0.0dev,>=3.20.3 in /usr/local/lib/python3.10/dist-packages (from tensorflow) (3.20.3)\n",
            "Requirement already satisfied: setuptools in /usr/local/lib/python3.10/dist-packages (from tensorflow) (67.7.2)\n",
            "Requirement already satisfied: six>=1.12.0 in /usr/local/lib/python3.10/dist-packages (from tensorflow) (1.16.0)\n",
            "Requirement already satisfied: termcolor>=1.1.0 in /usr/local/lib/python3.10/dist-packages (from tensorflow) (2.4.0)\n",
            "Requirement already satisfied: typing-extensions>=3.6.6 in /usr/local/lib/python3.10/dist-packages (from tensorflow) (4.11.0)\n",
            "Requirement already satisfied: wrapt<1.15,>=1.11.0 in /usr/local/lib/python3.10/dist-packages (from tensorflow) (1.14.1)\n",
            "Requirement already satisfied: tensorflow-io-gcs-filesystem>=0.23.1 in /usr/local/lib/python3.10/dist-packages (from tensorflow) (0.37.0)\n",
            "Requirement already satisfied: grpcio<2.0,>=1.24.3 in /usr/local/lib/python3.10/dist-packages (from tensorflow) (1.63.0)\n",
            "Requirement already satisfied: tensorboard<2.16,>=2.15 in /usr/local/lib/python3.10/dist-packages (from tensorflow) (2.15.2)\n",
            "Requirement already satisfied: tensorflow-estimator<2.16,>=2.15.0 in /usr/local/lib/python3.10/dist-packages (from tensorflow) (2.15.0)\n",
            "Requirement already satisfied: keras<2.16,>=2.15.0 in /usr/local/lib/python3.10/dist-packages (from tensorflow) (2.15.0)\n",
            "Requirement already satisfied: wheel<1.0,>=0.23.0 in /usr/local/lib/python3.10/dist-packages (from astunparse>=1.6.0->tensorflow) (0.43.0)\n",
            "Requirement already satisfied: google-auth<3,>=1.6.3 in /usr/local/lib/python3.10/dist-packages (from tensorboard<2.16,>=2.15->tensorflow) (2.27.0)\n",
            "Requirement already satisfied: google-auth-oauthlib<2,>=0.5 in /usr/local/lib/python3.10/dist-packages (from tensorboard<2.16,>=2.15->tensorflow) (1.2.0)\n",
            "Requirement already satisfied: markdown>=2.6.8 in /usr/local/lib/python3.10/dist-packages (from tensorboard<2.16,>=2.15->tensorflow) (3.6)\n",
            "Requirement already satisfied: requests<3,>=2.21.0 in /usr/local/lib/python3.10/dist-packages (from tensorboard<2.16,>=2.15->tensorflow) (2.31.0)\n",
            "Requirement already satisfied: tensorboard-data-server<0.8.0,>=0.7.0 in /usr/local/lib/python3.10/dist-packages (from tensorboard<2.16,>=2.15->tensorflow) (0.7.2)\n",
            "Requirement already satisfied: werkzeug>=1.0.1 in /usr/local/lib/python3.10/dist-packages (from tensorboard<2.16,>=2.15->tensorflow) (3.0.3)\n",
            "Requirement already satisfied: cachetools<6.0,>=2.0.0 in /usr/local/lib/python3.10/dist-packages (from google-auth<3,>=1.6.3->tensorboard<2.16,>=2.15->tensorflow) (5.3.3)\n",
            "Requirement already satisfied: pyasn1-modules>=0.2.1 in /usr/local/lib/python3.10/dist-packages (from google-auth<3,>=1.6.3->tensorboard<2.16,>=2.15->tensorflow) (0.4.0)\n",
            "Requirement already satisfied: rsa<5,>=3.1.4 in /usr/local/lib/python3.10/dist-packages (from google-auth<3,>=1.6.3->tensorboard<2.16,>=2.15->tensorflow) (4.9)\n",
            "Requirement already satisfied: requests-oauthlib>=0.7.0 in /usr/local/lib/python3.10/dist-packages (from google-auth-oauthlib<2,>=0.5->tensorboard<2.16,>=2.15->tensorflow) (1.3.1)\n",
            "Requirement already satisfied: charset-normalizer<4,>=2 in /usr/local/lib/python3.10/dist-packages (from requests<3,>=2.21.0->tensorboard<2.16,>=2.15->tensorflow) (3.3.2)\n",
            "Requirement already satisfied: idna<4,>=2.5 in /usr/local/lib/python3.10/dist-packages (from requests<3,>=2.21.0->tensorboard<2.16,>=2.15->tensorflow) (3.7)\n",
            "Requirement already satisfied: urllib3<3,>=1.21.1 in /usr/local/lib/python3.10/dist-packages (from requests<3,>=2.21.0->tensorboard<2.16,>=2.15->tensorflow) (2.0.7)\n",
            "Requirement already satisfied: certifi>=2017.4.17 in /usr/local/lib/python3.10/dist-packages (from requests<3,>=2.21.0->tensorboard<2.16,>=2.15->tensorflow) (2024.2.2)\n",
            "Requirement already satisfied: MarkupSafe>=2.1.1 in /usr/local/lib/python3.10/dist-packages (from werkzeug>=1.0.1->tensorboard<2.16,>=2.15->tensorflow) (2.1.5)\n",
            "Requirement already satisfied: pyasn1<0.7.0,>=0.4.6 in /usr/local/lib/python3.10/dist-packages (from pyasn1-modules>=0.2.1->google-auth<3,>=1.6.3->tensorboard<2.16,>=2.15->tensorflow) (0.6.0)\n",
            "Requirement already satisfied: oauthlib>=3.0.0 in /usr/local/lib/python3.10/dist-packages (from requests-oauthlib>=0.7.0->google-auth-oauthlib<2,>=0.5->tensorboard<2.16,>=2.15->tensorflow) (3.2.2)\n"
          ]
        }
      ],
      "source": [
        "!pip install tensorflow\n",
        "\n",
        "from sklearn.preprocessing import StandardScaler\n",
        "from tensorflow.keras.models import Sequential\n",
        "from tensorflow.keras.layers import Dense, Dropout\n",
        "from sklearn.model_selection import train_test_split\n",
        "from tensorflow.keras.optimizers import Adam\n",
        "from tensorflow.keras.callbacks import EarlyStopping"
      ]
    },
    {
      "cell_type": "code",
      "execution_count": 10,
      "metadata": {
        "id": "WHo3wxYgqaT3"
      },
      "outputs": [],
      "source": [
        "X_train, X_test, y_train, y_test = train_test_split(X, Y, test_size=0.2)\n",
        "\n",
        "scaler = StandardScaler()\n",
        "X_train_scaled = scaler.fit_transform(X_train)\n",
        "X_test_scaled = scaler.transform(X_test)\n",
        "\n",
        "model = Sequential([\n",
        "    Dense(256, activation='relu', input_shape=(X_train.shape[1],)),\n",
        "    Dropout(0.5),\n",
        "    Dense(128, activation='relu', input_shape=(X_train.shape[1],)),\n",
        "    Dropout(0.5),\n",
        "    Dense(64, activation='relu'),\n",
        "    Dense(12, activation='relu'),\n",
        "    Dense(22, activation='relu'),\n",
        "    Dense(34, activation='relu'),\n",
        "    Dense(52, activation='relu'),\n",
        "    Dense(82, activation='relu'),\n",
        "    Dense(16, activation='relu'),\n",
        "    Dense(21, activation='softmax')\n",
        "])\n",
        "\n",
        "optimizer = Adam(learning_rate=0.002)\n",
        "model.compile(optimizer=optimizer, loss='sparse_categorical_crossentropy', metrics=['accuracy'])\n",
        "\n",
        "early_stopping = EarlyStopping(monitor='val_loss', patience=20, restore_best_weights=True)"
      ]
    },
    {
      "cell_type": "code",
      "execution_count": null,
      "metadata": {
        "colab": {
          "base_uri": "https://localhost:8080/"
        },
        "id": "N_dZaTuuqcPH",
        "outputId": "4e025568-c9db-46d3-cd8f-c2e77f89b59a"
      },
      "outputs": [
        {
          "output_type": "stream",
          "name": "stdout",
          "text": [
            "Epoch 1/50\n",
            "49/49 [==============================] - 3s 10ms/step - loss: 3.0388 - accuracy: 0.0525 - val_loss: 3.0249 - val_accuracy: 0.0797\n",
            "Epoch 2/50\n",
            "49/49 [==============================] - 0s 4ms/step - loss: 2.9718 - accuracy: 0.0762 - val_loss: 2.8949 - val_accuracy: 0.0906\n",
            "Epoch 3/50\n",
            "49/49 [==============================] - 0s 4ms/step - loss: 2.8353 - accuracy: 0.0999 - val_loss: 2.7749 - val_accuracy: 0.0797\n",
            "Epoch 4/50\n",
            "49/49 [==============================] - 0s 4ms/step - loss: 2.7406 - accuracy: 0.0935 - val_loss: 2.7571 - val_accuracy: 0.0906\n",
            "Epoch 5/50\n",
            "49/49 [==============================] - 0s 3ms/step - loss: 2.7241 - accuracy: 0.0999 - val_loss: 2.7363 - val_accuracy: 0.1051\n",
            "Epoch 6/50\n",
            "49/49 [==============================] - 0s 6ms/step - loss: 2.7110 - accuracy: 0.1089 - val_loss: 2.7178 - val_accuracy: 0.1051\n",
            "Epoch 7/50\n",
            "49/49 [==============================] - 0s 6ms/step - loss: 2.7051 - accuracy: 0.1102 - val_loss: 2.6866 - val_accuracy: 0.1087\n",
            "Epoch 8/50\n",
            "49/49 [==============================] - 0s 6ms/step - loss: 2.6925 - accuracy: 0.1179 - val_loss: 2.6985 - val_accuracy: 0.0978\n",
            "Epoch 9/50\n",
            "49/49 [==============================] - 0s 5ms/step - loss: 2.6891 - accuracy: 0.1134 - val_loss: 2.6873 - val_accuracy: 0.1123\n",
            "Epoch 10/50\n",
            "49/49 [==============================] - 0s 6ms/step - loss: 2.6811 - accuracy: 0.1198 - val_loss: 2.6882 - val_accuracy: 0.1159\n",
            "Epoch 11/50\n",
            "49/49 [==============================] - 0s 7ms/step - loss: 2.6770 - accuracy: 0.1211 - val_loss: 2.6829 - val_accuracy: 0.1123\n",
            "Epoch 12/50\n",
            "49/49 [==============================] - 0s 7ms/step - loss: 2.6796 - accuracy: 0.1224 - val_loss: 2.6706 - val_accuracy: 0.1232\n",
            "Epoch 13/50\n",
            "49/49 [==============================] - 0s 7ms/step - loss: 2.6566 - accuracy: 0.1198 - val_loss: 2.6617 - val_accuracy: 0.1196\n",
            "Epoch 14/50\n",
            "49/49 [==============================] - 0s 6ms/step - loss: 2.6554 - accuracy: 0.1243 - val_loss: 2.6649 - val_accuracy: 0.1159\n",
            "Epoch 15/50\n",
            "49/49 [==============================] - 0s 7ms/step - loss: 2.6567 - accuracy: 0.1243 - val_loss: 2.6608 - val_accuracy: 0.1341\n",
            "Epoch 16/50\n",
            "49/49 [==============================] - 0s 7ms/step - loss: 2.6545 - accuracy: 0.1313 - val_loss: 2.6867 - val_accuracy: 0.1594\n",
            "Epoch 17/50\n",
            "49/49 [==============================] - 0s 7ms/step - loss: 2.6627 - accuracy: 0.1397 - val_loss: 2.6672 - val_accuracy: 0.1268\n",
            "Epoch 18/50\n",
            "49/49 [==============================] - 0s 6ms/step - loss: 2.6574 - accuracy: 0.1204 - val_loss: 2.6577 - val_accuracy: 0.1196\n",
            "Epoch 19/50\n",
            "49/49 [==============================] - 0s 6ms/step - loss: 2.6474 - accuracy: 0.1224 - val_loss: 2.6584 - val_accuracy: 0.1522\n",
            "Epoch 20/50\n",
            "49/49 [==============================] - 0s 8ms/step - loss: 2.6299 - accuracy: 0.1409 - val_loss: 2.6416 - val_accuracy: 0.1341\n",
            "Epoch 21/50\n",
            "49/49 [==============================] - 1s 11ms/step - loss: 2.6285 - accuracy: 0.1461 - val_loss: 2.6346 - val_accuracy: 0.1268\n",
            "Epoch 22/50\n",
            "49/49 [==============================] - 0s 8ms/step - loss: 2.6359 - accuracy: 0.1416 - val_loss: 2.6514 - val_accuracy: 0.1087\n",
            "Epoch 23/50\n",
            "49/49 [==============================] - 0s 10ms/step - loss: 2.6235 - accuracy: 0.1256 - val_loss: 2.6333 - val_accuracy: 0.1341\n",
            "Epoch 24/50\n",
            "49/49 [==============================] - 1s 14ms/step - loss: 2.6261 - accuracy: 0.1409 - val_loss: 2.6326 - val_accuracy: 0.1268\n",
            "Epoch 25/50\n",
            "49/49 [==============================] - 0s 8ms/step - loss: 2.6230 - accuracy: 0.1441 - val_loss: 2.6503 - val_accuracy: 0.1123\n",
            "Epoch 26/50\n",
            "49/49 [==============================] - 1s 11ms/step - loss: 2.6478 - accuracy: 0.1429 - val_loss: 2.6357 - val_accuracy: 0.1268\n",
            "Epoch 27/50\n",
            "49/49 [==============================] - 0s 9ms/step - loss: 2.6349 - accuracy: 0.1345 - val_loss: 2.6352 - val_accuracy: 0.1232\n",
            "Epoch 28/50\n",
            "49/49 [==============================] - 1s 12ms/step - loss: 2.6233 - accuracy: 0.1473 - val_loss: 2.6506 - val_accuracy: 0.1087\n",
            "Epoch 29/50\n",
            "49/49 [==============================] - 0s 7ms/step - loss: 2.6251 - accuracy: 0.1473 - val_loss: 2.6253 - val_accuracy: 0.1413\n",
            "Epoch 30/50\n",
            "49/49 [==============================] - 0s 8ms/step - loss: 2.6221 - accuracy: 0.1384 - val_loss: 2.6271 - val_accuracy: 0.1232\n",
            "Epoch 31/50\n",
            "49/49 [==============================] - 0s 7ms/step - loss: 2.6189 - accuracy: 0.1473 - val_loss: 2.6225 - val_accuracy: 0.1341\n",
            "Epoch 32/50\n",
            "49/49 [==============================] - 0s 8ms/step - loss: 2.6112 - accuracy: 0.1531 - val_loss: 2.6236 - val_accuracy: 0.1196\n",
            "Epoch 33/50\n",
            "49/49 [==============================] - 0s 8ms/step - loss: 2.6101 - accuracy: 0.1582 - val_loss: 2.6242 - val_accuracy: 0.1486\n",
            "Epoch 34/50\n",
            "49/49 [==============================] - 0s 10ms/step - loss: 2.6107 - accuracy: 0.1429 - val_loss: 2.6144 - val_accuracy: 0.1232\n",
            "Epoch 35/50\n",
            "49/49 [==============================] - 0s 8ms/step - loss: 2.6149 - accuracy: 0.1499 - val_loss: 2.6447 - val_accuracy: 0.1304\n",
            "Epoch 36/50\n",
            "49/49 [==============================] - 0s 8ms/step - loss: 2.6044 - accuracy: 0.1537 - val_loss: 2.6277 - val_accuracy: 0.1377\n",
            "Epoch 37/50\n",
            "49/49 [==============================] - 0s 8ms/step - loss: 2.6156 - accuracy: 0.1416 - val_loss: 2.6525 - val_accuracy: 0.1196\n",
            "Epoch 38/50\n",
            "49/49 [==============================] - 0s 8ms/step - loss: 2.6188 - accuracy: 0.1518 - val_loss: 2.6308 - val_accuracy: 0.1341\n",
            "Epoch 39/50\n",
            "49/49 [==============================] - 0s 7ms/step - loss: 2.6051 - accuracy: 0.1384 - val_loss: 2.6451 - val_accuracy: 0.1522\n",
            "Epoch 40/50\n",
            "49/49 [==============================] - 0s 8ms/step - loss: 2.6104 - accuracy: 0.1409 - val_loss: 2.6352 - val_accuracy: 0.1413\n",
            "Epoch 41/50\n",
            "49/49 [==============================] - 0s 10ms/step - loss: 2.6124 - accuracy: 0.1429 - val_loss: 2.6255 - val_accuracy: 0.1449\n",
            "Epoch 42/50\n",
            "49/49 [==============================] - 0s 8ms/step - loss: 2.6089 - accuracy: 0.1525 - val_loss: 2.6149 - val_accuracy: 0.1377\n",
            "Epoch 43/50\n",
            "49/49 [==============================] - 0s 7ms/step - loss: 2.6077 - accuracy: 0.1595 - val_loss: 2.6393 - val_accuracy: 0.1123\n",
            "Epoch 44/50\n",
            "49/49 [==============================] - 0s 7ms/step - loss: 2.5993 - accuracy: 0.1499 - val_loss: 2.6171 - val_accuracy: 0.1196\n",
            "Epoch 45/50\n",
            "49/49 [==============================] - 0s 8ms/step - loss: 2.5962 - accuracy: 0.1563 - val_loss: 2.6274 - val_accuracy: 0.1123\n",
            "Epoch 46/50\n",
            "49/49 [==============================] - 0s 8ms/step - loss: 2.5944 - accuracy: 0.1557 - val_loss: 2.6219 - val_accuracy: 0.1377\n",
            "Epoch 47/50\n",
            "49/49 [==============================] - 0s 5ms/step - loss: 2.6096 - accuracy: 0.1454 - val_loss: 2.6197 - val_accuracy: 0.1304\n",
            "Epoch 48/50\n",
            "49/49 [==============================] - 1s 12ms/step - loss: 2.6016 - accuracy: 0.1390 - val_loss: 2.6216 - val_accuracy: 0.1630\n",
            "Epoch 49/50\n",
            "49/49 [==============================] - 0s 8ms/step - loss: 2.6012 - accuracy: 0.1499 - val_loss: 2.6206 - val_accuracy: 0.1449\n",
            "Epoch 50/50\n",
            "49/49 [==============================] - 0s 9ms/step - loss: 2.6076 - accuracy: 0.1621 - val_loss: 2.6336 - val_accuracy: 0.1304\n",
            "15/15 [==============================] - 0s 8ms/step - loss: 2.6309 - accuracy: 0.1370\n",
            "Test Accuracy: 0.13695652782917023\n"
          ]
        }
      ],
      "source": [
        "history = model.fit(X_train_scaled, y_train, epochs=50, batch_size=32,\n",
        "                    validation_split=0.15, callbacks=[early_stopping])\n",
        "\n",
        "loss, accuracy = model.evaluate(X_test_scaled, y_test)\n",
        "print(f'Test Accuracy: {accuracy}')"
      ]
    },
    {
      "cell_type": "markdown",
      "metadata": {
        "id": "tXVT1xnt6hlc"
      },
      "source": [
        "# Regression Neural Network"
      ]
    },
    {
      "cell_type": "code",
      "execution_count": null,
      "metadata": {
        "colab": {
          "base_uri": "https://localhost:8080/"
        },
        "id": "g9FTp7WQ6jvm",
        "outputId": "d17eb3c9-77de-4fc0-f26c-9686eba51a52"
      },
      "outputs": [
        {
          "output_type": "stream",
          "name": "stdout",
          "text": [
            "Epoch 1/35\n",
            "46/46 [==============================] - 2s 18ms/step - loss: 69.6564 - mean_absolute_error: 6.6863 - val_loss: 22.2884 - val_mean_absolute_error: 3.8094\n",
            "Epoch 2/35\n",
            "46/46 [==============================] - 0s 5ms/step - loss: 25.6202 - mean_absolute_error: 4.0453 - val_loss: 21.0775 - val_mean_absolute_error: 3.5392\n",
            "Epoch 3/35\n",
            "46/46 [==============================] - 0s 4ms/step - loss: 24.7666 - mean_absolute_error: 3.8991 - val_loss: 20.2931 - val_mean_absolute_error: 3.5081\n",
            "Epoch 4/35\n",
            "46/46 [==============================] - 0s 4ms/step - loss: 23.6175 - mean_absolute_error: 3.8513 - val_loss: 20.6127 - val_mean_absolute_error: 3.4763\n",
            "Epoch 5/35\n",
            "46/46 [==============================] - 0s 3ms/step - loss: 23.6804 - mean_absolute_error: 3.8387 - val_loss: 21.8320 - val_mean_absolute_error: 3.4505\n",
            "Epoch 6/35\n",
            "46/46 [==============================] - 0s 3ms/step - loss: 23.4847 - mean_absolute_error: 3.7763 - val_loss: 19.8188 - val_mean_absolute_error: 3.4723\n",
            "Epoch 7/35\n",
            "46/46 [==============================] - 0s 5ms/step - loss: 22.6789 - mean_absolute_error: 3.7456 - val_loss: 20.1973 - val_mean_absolute_error: 3.4020\n",
            "Epoch 8/35\n",
            "46/46 [==============================] - 0s 5ms/step - loss: 22.6373 - mean_absolute_error: 3.7210 - val_loss: 20.2398 - val_mean_absolute_error: 3.4305\n",
            "Epoch 9/35\n",
            "46/46 [==============================] - 0s 5ms/step - loss: 23.2812 - mean_absolute_error: 3.7533 - val_loss: 19.7379 - val_mean_absolute_error: 3.3912\n",
            "Epoch 10/35\n",
            "46/46 [==============================] - 0s 8ms/step - loss: 22.8299 - mean_absolute_error: 3.7318 - val_loss: 21.0344 - val_mean_absolute_error: 3.4037\n",
            "Epoch 11/35\n",
            "46/46 [==============================] - 0s 6ms/step - loss: 23.0236 - mean_absolute_error: 3.7678 - val_loss: 21.1894 - val_mean_absolute_error: 3.4390\n",
            "Epoch 12/35\n",
            "46/46 [==============================] - 0s 4ms/step - loss: 22.1328 - mean_absolute_error: 3.7002 - val_loss: 19.9103 - val_mean_absolute_error: 3.3600\n",
            "Epoch 13/35\n",
            "46/46 [==============================] - 0s 5ms/step - loss: 22.2508 - mean_absolute_error: 3.6682 - val_loss: 20.5139 - val_mean_absolute_error: 3.3690\n",
            "Epoch 14/35\n",
            "46/46 [==============================] - 0s 5ms/step - loss: 21.6761 - mean_absolute_error: 3.6046 - val_loss: 20.5135 - val_mean_absolute_error: 3.3596\n",
            "Epoch 15/35\n",
            "46/46 [==============================] - 0s 5ms/step - loss: 21.6796 - mean_absolute_error: 3.6147 - val_loss: 21.5604 - val_mean_absolute_error: 3.4474\n",
            "Epoch 16/35\n",
            "46/46 [==============================] - 0s 4ms/step - loss: 21.9209 - mean_absolute_error: 3.6276 - val_loss: 20.2920 - val_mean_absolute_error: 3.4160\n",
            "Epoch 17/35\n",
            "46/46 [==============================] - 0s 8ms/step - loss: 21.6327 - mean_absolute_error: 3.6212 - val_loss: 21.2872 - val_mean_absolute_error: 3.4322\n",
            "Epoch 18/35\n",
            "46/46 [==============================] - 0s 5ms/step - loss: 22.1461 - mean_absolute_error: 3.6323 - val_loss: 21.0260 - val_mean_absolute_error: 3.4055\n",
            "Epoch 19/35\n",
            "46/46 [==============================] - 0s 6ms/step - loss: 21.4706 - mean_absolute_error: 3.6076 - val_loss: 19.9986 - val_mean_absolute_error: 3.3668\n",
            "15/15 [==============================] - 0s 3ms/step - loss: 22.0231 - mean_absolute_error: 3.6961\n",
            "Test Mean Absolute Error: 3.6961021423339844\n"
          ]
        }
      ],
      "source": [
        "model_regression = Sequential([\n",
        "    Dense(128, activation='relu', input_shape=(X_train.shape[1],)),\n",
        "    Dropout(0.5),\n",
        "    Dense(64, activation='relu'),\n",
        "    Dense(32, activation='relu'),\n",
        "    Dense(16, activation='relu'),\n",
        "    Dense(1, activation='linear')\n",
        "])\n",
        "\n",
        "optimizer = Adam(learning_rate=0.001)\n",
        "model_regression.compile(optimizer=optimizer, loss='mean_squared_error', metrics=['mean_absolute_error'])\n",
        "\n",
        "early_stopping = EarlyStopping(monitor='val_loss', patience=10, restore_best_weights=True)\n",
        "\n",
        "history = model_regression.fit(X_train_scaled, y_train, epochs=35, batch_size=32,\n",
        "                    validation_split=0.2, callbacks=[early_stopping])\n",
        "\n",
        "loss, mae = model_regression.evaluate(X_test_scaled, y_test)\n",
        "print(f'Test Mean Absolute Error: {mae}')"
      ]
    },
    {
      "cell_type": "code",
      "execution_count": null,
      "metadata": {
        "colab": {
          "base_uri": "https://localhost:8080/",
          "height": 507
        },
        "id": "GbhK7xcV6opC",
        "outputId": "4f0f419f-d773-4223-faa3-ffcacde09a26"
      },
      "outputs": [
        {
          "output_type": "display_data",
          "data": {
            "text/plain": [
              "<Figure size 1000x500 with 2 Axes>"
            ],
            "image/png": "[encoded data removed]"
          },
          "metadata": {}
        }
      ],
      "source": [
        "import matplotlib.pyplot as plt\n",
        "\n",
        "loss = history.history['loss']\n",
        "val_loss = history.history['val_loss']\n",
        "mae = history.history['mean_absolute_error']\n",
        "val_mae = history.history['val_mean_absolute_error']\n",
        "\n",
        "epochs = range(1, len(loss) + 1)\n",
        "\n",
        "plt.figure(figsize=(10, 5))\n",
        "\n",
        "plt.subplot(1, 2, 1)\n",
        "plt.plot(epochs, loss, 'bo-', label='Training Loss')\n",
        "plt.plot(epochs, val_loss, 'ro-', label='Validation Loss')\n",
        "plt.title('Training and Validation Loss')\n",
        "plt.xlabel('Epochs')\n",
        "plt.ylabel('Loss')\n",
        "plt.legend()\n",
        "\n",
        "plt.subplot(1, 2, 2)\n",
        "plt.plot(epochs, mae, 'bo-', label='Training MAE')\n",
        "plt.plot(epochs, val_mae, 'ro-', label='Validation MAE')\n",
        "plt.title('Training and Validation MAE')\n",
        "plt.xlabel('Epochs')\n",
        "plt.ylabel('MAE')\n",
        "plt.legend()\n",
        "\n",
        "plt.tight_layout()\n",
        "plt.show()"
      ]
    },
    {
      "cell_type": "markdown",
      "metadata": {
        "id": "Ka9lHUXV6xTO"
      },
      "source": [
        "#Regression Convolutional Neural Network"
      ]
    },
    {
      "cell_type": "code",
      "execution_count": null,
      "metadata": {
        "colab": {
          "base_uri": "https://localhost:8080/"
        },
        "id": "LubsC5fw60y0",
        "outputId": "ca94771e-08f6-489c-8dab-bef2f8c3c200"
      },
      "outputs": [
        {
          "output_type": "stream",
          "name": "stdout",
          "text": [
            "Epoch 1/100\n",
            "46/46 [==============================] - 3s 19ms/step - loss: 74.6871 - mean_absolute_error: 7.0487 - val_loss: 34.5283 - val_mean_absolute_error: 4.9421\n",
            "Epoch 2/100\n",
            "46/46 [==============================] - 0s 10ms/step - loss: 40.5383 - mean_absolute_error: 5.2664 - val_loss: 25.3593 - val_mean_absolute_error: 4.1757\n",
            "Epoch 3/100\n",
            "46/46 [==============================] - 0s 10ms/step - loss: 30.1990 - mean_absolute_error: 4.4416 - val_loss: 21.0236 - val_mean_absolute_error: 3.7088\n",
            "Epoch 4/100\n",
            "46/46 [==============================] - 0s 8ms/step - loss: 27.3381 - mean_absolute_error: 4.0890 - val_loss: 21.4410 - val_mean_absolute_error: 3.5110\n",
            "Epoch 5/100\n",
            "46/46 [==============================] - 1s 19ms/step - loss: 27.2896 - mean_absolute_error: 4.0689 - val_loss: 20.1544 - val_mean_absolute_error: 3.4594\n",
            "Epoch 6/100\n",
            "46/46 [==============================] - 1s 15ms/step - loss: 25.6452 - mean_absolute_error: 3.9376 - val_loss: 20.8671 - val_mean_absolute_error: 3.4888\n",
            "Epoch 7/100\n",
            "46/46 [==============================] - 1s 18ms/step - loss: 24.6764 - mean_absolute_error: 3.8319 - val_loss: 19.5184 - val_mean_absolute_error: 3.4154\n",
            "Epoch 8/100\n",
            "46/46 [==============================] - 1s 18ms/step - loss: 24.0888 - mean_absolute_error: 3.8185 - val_loss: 21.3650 - val_mean_absolute_error: 3.4079\n",
            "Epoch 9/100\n",
            "46/46 [==============================] - 1s 11ms/step - loss: 24.5166 - mean_absolute_error: 3.8010 - val_loss: 19.4142 - val_mean_absolute_error: 3.3502\n",
            "Epoch 10/100\n",
            "46/46 [==============================] - 1s 14ms/step - loss: 25.3703 - mean_absolute_error: 3.9029 - val_loss: 21.0839 - val_mean_absolute_error: 3.4169\n",
            "Epoch 11/100\n",
            "46/46 [==============================] - 0s 10ms/step - loss: 23.5750 - mean_absolute_error: 3.7394 - val_loss: 19.5647 - val_mean_absolute_error: 3.3716\n",
            "Epoch 12/100\n",
            "46/46 [==============================] - 0s 9ms/step - loss: 24.0291 - mean_absolute_error: 3.7692 - val_loss: 19.2671 - val_mean_absolute_error: 3.4406\n",
            "Epoch 13/100\n",
            "46/46 [==============================] - 0s 9ms/step - loss: 24.7524 - mean_absolute_error: 3.8000 - val_loss: 21.3301 - val_mean_absolute_error: 3.4656\n",
            "Epoch 14/100\n",
            "46/46 [==============================] - 0s 9ms/step - loss: 24.2549 - mean_absolute_error: 3.7994 - val_loss: 19.2983 - val_mean_absolute_error: 3.4152\n",
            "Epoch 15/100\n",
            "46/46 [==============================] - 1s 11ms/step - loss: 23.6285 - mean_absolute_error: 3.7904 - val_loss: 19.5179 - val_mean_absolute_error: 3.3872\n",
            "Epoch 16/100\n",
            "46/46 [==============================] - 0s 10ms/step - loss: 23.2527 - mean_absolute_error: 3.7358 - val_loss: 20.8650 - val_mean_absolute_error: 3.3936\n",
            "Epoch 17/100\n",
            "46/46 [==============================] - 0s 9ms/step - loss: 23.8802 - mean_absolute_error: 3.7057 - val_loss: 19.4498 - val_mean_absolute_error: 3.4501\n",
            "Epoch 18/100\n",
            "46/46 [==============================] - 0s 8ms/step - loss: 22.6316 - mean_absolute_error: 3.6414 - val_loss: 19.5371 - val_mean_absolute_error: 3.4049\n",
            "Epoch 19/100\n",
            "46/46 [==============================] - 0s 9ms/step - loss: 23.7776 - mean_absolute_error: 3.7816 - val_loss: 20.3441 - val_mean_absolute_error: 3.3364\n",
            "Epoch 20/100\n",
            "46/46 [==============================] - 0s 9ms/step - loss: 22.0485 - mean_absolute_error: 3.6440 - val_loss: 19.6393 - val_mean_absolute_error: 3.4171\n",
            "Epoch 21/100\n",
            "46/46 [==============================] - 1s 12ms/step - loss: 23.2168 - mean_absolute_error: 3.7074 - val_loss: 20.0307 - val_mean_absolute_error: 3.3977\n",
            "Epoch 22/100\n",
            "46/46 [==============================] - 1s 11ms/step - loss: 22.9202 - mean_absolute_error: 3.7306 - val_loss: 20.5179 - val_mean_absolute_error: 3.3640\n",
            "Epoch 23/100\n",
            "46/46 [==============================] - 0s 9ms/step - loss: 23.0012 - mean_absolute_error: 3.6922 - val_loss: 20.2265 - val_mean_absolute_error: 3.3291\n",
            "Epoch 24/100\n",
            "46/46 [==============================] - 0s 10ms/step - loss: 23.6254 - mean_absolute_error: 3.7655 - val_loss: 19.5667 - val_mean_absolute_error: 3.5069\n",
            "Epoch 25/100\n",
            "46/46 [==============================] - 0s 9ms/step - loss: 22.4435 - mean_absolute_error: 3.6597 - val_loss: 24.4362 - val_mean_absolute_error: 3.6442\n",
            "Epoch 26/100\n",
            "46/46 [==============================] - 0s 9ms/step - loss: 22.2395 - mean_absolute_error: 3.6365 - val_loss: 21.2054 - val_mean_absolute_error: 3.4536\n",
            "Epoch 27/100\n",
            "46/46 [==============================] - 0s 9ms/step - loss: 22.6276 - mean_absolute_error: 3.6772 - val_loss: 19.6549 - val_mean_absolute_error: 3.3780\n",
            "15/15 [==============================] - 0s 3ms/step - loss: 21.0812 - mean_absolute_error: 3.6635\n",
            "Test Mean Absolute Error: 3.663527250289917\n"
          ]
        }
      ],
      "source": [
        "from tensorflow.keras.layers import Conv1D, MaxPooling1D, Flatten\n",
        "\n",
        "model_CNN = Sequential([\n",
        "    Conv1D(filters=32, kernel_size=3, activation='relu', input_shape=(X_train.shape[1], 1)),\n",
        "    MaxPooling1D(pool_size=2),\n",
        "    Conv1D(filters=64, kernel_size=3, activation='relu'),\n",
        "    MaxPooling1D(pool_size=2),\n",
        "    Conv1D(filters=128, kernel_size=3, activation='relu'),\n",
        "    MaxPooling1D(pool_size=1),\n",
        "    Flatten(),\n",
        "    Dense(64, activation='relu'),\n",
        "    Dropout(0.45),\n",
        "    Dense(128, activation='relu'),\n",
        "    Dropout(0.45),\n",
        "    Dense(1, activation='linear')\n",
        "])\n",
        "\n",
        "optimizer = Adam(learning_rate=0.001)\n",
        "model_CNN.compile(optimizer=optimizer, loss='mean_squared_error', metrics=['mean_absolute_error'])\n",
        "\n",
        "early_stopping = EarlyStopping(monitor='val_loss', patience=15, restore_best_weights=True)\n",
        "\n",
        "history = model_CNN.fit(X_train_scaled.reshape(-1, X_train_scaled.shape[1], 1), y_train, epochs=100, batch_size=32,\n",
        "                    validation_split=0.2, callbacks=[early_stopping])\n",
        "\n",
        "loss, mae = model_CNN.evaluate(X_test_scaled.reshape(-1, X_test_scaled.shape[1], 1), y_test)\n",
        "print(f'Test Mean Absolute Error: {mae}')"
      ]
    },
    {
      "cell_type": "code",
      "execution_count": null,
      "metadata": {
        "colab": {
          "base_uri": "https://localhost:8080/",
          "height": 507
        },
        "id": "ctj6h4RE638y",
        "outputId": "84b54d55-07b0-4ea7-8068-373a1cb19174"
      },
      "outputs": [
        {
          "output_type": "display_data",
          "data": {
            "text/plain": [
              "<Figure size 1000x500 with 2 Axes>"
            ],
            "image/png": "[encoded data removed]"
          },
          "metadata": {}
        }
      ],
      "source": [
        "import matplotlib.pyplot as plt\n",
        "\n",
        "loss = history.history['loss']\n",
        "val_loss = history.history['val_loss']\n",
        "mae = history.history['mean_absolute_error']\n",
        "val_mae = history.history['val_mean_absolute_error']\n",
        "\n",
        "epochs = range(1, len(loss) + 1)\n",
        "\n",
        "plt.figure(figsize=(10, 5))\n",
        "\n",
        "plt.subplot(1, 2, 1)\n",
        "plt.plot(epochs, loss, 'bo-', label='Training Loss')\n",
        "plt.plot(epochs, val_loss, 'ro-', label='Validation Loss')\n",
        "plt.title('Training and Validation Loss')\n",
        "plt.xlabel('Epochs')\n",
        "plt.ylabel('Loss')\n",
        "plt.legend()\n",
        "\n",
        "plt.subplot(1, 2, 2)\n",
        "plt.plot(epochs, mae, 'bo-', label='Training MAE')\n",
        "plt.plot(epochs, val_mae, 'ro-', label='Validation MAE')\n",
        "plt.title('Training and Validation MAE')\n",
        "plt.xlabel('Epochs')\n",
        "plt.ylabel('MAE')\n",
        "plt.legend()\n",
        "\n",
        "plt.tight_layout()\n",
        "plt.show()"
      ]
    },
    {
      "cell_type": "code",
      "execution_count": null,
      "metadata": {
        "id": "UyaxBQl169Yy"
      },
      "outputs": [],
      "source": []
    },
    {
      "cell_type": "markdown",
      "metadata": {
        "id": "fXj93F6u727J"
      },
      "source": [
        "#Comparing Models"
      ]
    },
    {
      "cell_type": "code",
      "execution_count": null,
      "metadata": {
        "colab": {
          "base_uri": "https://localhost:8080/"
        },
        "id": "L50OQVIb74Tw",
        "outputId": "974d8f95-f1d7-4e72-badb-f77fa4532671"
      },
      "outputs": [
        {
          "output_type": "stream",
          "name": "stdout",
          "text": [
            "Linear Regression Model - Train MAE: 8.230576412617467\n",
            "Linear Regression Model - Test MAE: 8.200456882483854\n"
          ]
        }
      ],
      "source": [
        "from sklearn.metrics import mean_absolute_error\n",
        "\n",
        "print(f'Linear Regression Model - Train MAE: {mean_absolute_error(y_train, reg.predict(X_train_scaled))}')\n",
        "print(f'Linear Regression Model - Test MAE: {mean_absolute_error(y_test, reg.predict(X_test_scaled))}')"
      ]
    },
    {
      "cell_type": "code",
      "execution_count": null,
      "metadata": {
        "id": "2ST8zf6W74-N"
      },
      "outputs": [],
      "source": []
    },
    {
      "cell_type": "markdown",
      "metadata": {
        "id": "jRM8pjhxdrik"
      },
      "source": [
        "#CORN"
      ]
    },
    {
      "cell_type": "code",
      "execution_count": 11,
      "metadata": {
        "colab": {
          "base_uri": "https://localhost:8080/"
        },
        "id": "cUcgVC5AxqAm",
        "outputId": "fac12bf9-298d-4f4c-aa4b-f018bcf7d072"
      },
      "outputs": [
        {
          "output_type": "stream",
          "name": "stdout",
          "text": [
            "Collecting git+https://github.com/ck37/coral-ordinal/\n",
            "  Cloning https://github.com/ck37/coral-ordinal/ to /tmp/pip-req-build-kwgl9w9c\n",
            "  Running command git clone --filter=blob:none --quiet https://github.com/ck37/coral-ordinal/ /tmp/pip-req-build-kwgl9w9c\n",
            "  Resolved https://github.com/ck37/coral-ordinal/ to commit e42038b66705bcd6fb52152cf28ce8278a16912c\n",
            "  Preparing metadata (setup.py) ... \u001b[?25l\u001b[?25hdone\n",
            "Requirement already satisfied: numpy in /usr/local/lib/python3.10/dist-packages (from coral-ordinal==0.1.9.dev0) (1.25.2)\n",
            "Requirement already satisfied: tensorflow>=2.2 in /usr/local/lib/python3.10/dist-packages (from coral-ordinal==0.1.9.dev0) (2.15.0)\n",
            "Requirement already satisfied: absl-py>=1.0.0 in /usr/local/lib/python3.10/dist-packages (from tensorflow>=2.2->coral-ordinal==0.1.9.dev0) (1.4.0)\n",
            "Requirement already satisfied: astunparse>=1.6.0 in /usr/local/lib/python3.10/dist-packages (from tensorflow>=2.2->coral-ordinal==0.1.9.dev0) (1.6.3)\n",
            "Requirement already satisfied: flatbuffers>=23.5.26 in /usr/local/lib/python3.10/dist-packages (from tensorflow>=2.2->coral-ordinal==0.1.9.dev0) (24.3.25)\n",
            "Requirement already satisfied: gast!=0.5.0,!=0.5.1,!=0.5.2,>=0.2.1 in /usr/local/lib/python3.10/dist-packages (from tensorflow>=2.2->coral-ordinal==0.1.9.dev0) (0.5.4)\n",
            "Requirement already satisfied: google-pasta>=0.1.1 in /usr/local/lib/python3.10/dist-packages (from tensorflow>=2.2->coral-ordinal==0.1.9.dev0) (0.2.0)\n",
            "Requirement already satisfied: h5py>=2.9.0 in /usr/local/lib/python3.10/dist-packages (from tensorflow>=2.2->coral-ordinal==0.1.9.dev0) (3.9.0)\n",
            "Requirement already satisfied: libclang>=13.0.0 in /usr/local/lib/python3.10/dist-packages (from tensorflow>=2.2->coral-ordinal==0.1.9.dev0) (18.1.1)\n",
            "Requirement already satisfied: ml-dtypes~=0.2.0 in /usr/local/lib/python3.10/dist-packages (from tensorflow>=2.2->coral-ordinal==0.1.9.dev0) (0.2.0)\n",
            "Requirement already satisfied: opt-einsum>=2.3.2 in /usr/local/lib/python3.10/dist-packages (from tensorflow>=2.2->coral-ordinal==0.1.9.dev0) (3.3.0)\n",
            "Requirement already satisfied: packaging in /usr/local/lib/python3.10/dist-packages (from tensorflow>=2.2->coral-ordinal==0.1.9.dev0) (24.0)\n",
            "Requirement already satisfied: protobuf!=4.21.0,!=4.21.1,!=4.21.2,!=4.21.3,!=4.21.4,!=4.21.5,<5.0.0dev,>=3.20.3 in /usr/local/lib/python3.10/dist-packages (from tensorflow>=2.2->coral-ordinal==0.1.9.dev0) (3.20.3)\n",
            "Requirement already satisfied: setuptools in /usr/local/lib/python3.10/dist-packages (from tensorflow>=2.2->coral-ordinal==0.1.9.dev0) (67.7.2)\n",
            "Requirement already satisfied: six>=1.12.0 in /usr/local/lib/python3.10/dist-packages (from tensorflow>=2.2->coral-ordinal==0.1.9.dev0) (1.16.0)\n",
            "Requirement already satisfied: termcolor>=1.1.0 in /usr/local/lib/python3.10/dist-packages (from tensorflow>=2.2->coral-ordinal==0.1.9.dev0) (2.4.0)\n",
            "Requirement already satisfied: typing-extensions>=3.6.6 in /usr/local/lib/python3.10/dist-packages (from tensorflow>=2.2->coral-ordinal==0.1.9.dev0) (4.11.0)\n",
            "Requirement already satisfied: wrapt<1.15,>=1.11.0 in /usr/local/lib/python3.10/dist-packages (from tensorflow>=2.2->coral-ordinal==0.1.9.dev0) (1.14.1)\n",
            "Requirement already satisfied: tensorflow-io-gcs-filesystem>=0.23.1 in /usr/local/lib/python3.10/dist-packages (from tensorflow>=2.2->coral-ordinal==0.1.9.dev0) (0.37.0)\n",
            "Requirement already satisfied: grpcio<2.0,>=1.24.3 in /usr/local/lib/python3.10/dist-packages (from tensorflow>=2.2->coral-ordinal==0.1.9.dev0) (1.63.0)\n",
            "Requirement already satisfied: tensorboard<2.16,>=2.15 in /usr/local/lib/python3.10/dist-packages (from tensorflow>=2.2->coral-ordinal==0.1.9.dev0) (2.15.2)\n",
            "Requirement already satisfied: tensorflow-estimator<2.16,>=2.15.0 in /usr/local/lib/python3.10/dist-packages (from tensorflow>=2.2->coral-ordinal==0.1.9.dev0) (2.15.0)\n",
            "Requirement already satisfied: keras<2.16,>=2.15.0 in /usr/local/lib/python3.10/dist-packages (from tensorflow>=2.2->coral-ordinal==0.1.9.dev0) (2.15.0)\n",
            "Requirement already satisfied: wheel<1.0,>=0.23.0 in /usr/local/lib/python3.10/dist-packages (from astunparse>=1.6.0->tensorflow>=2.2->coral-ordinal==0.1.9.dev0) (0.43.0)\n",
            "Requirement already satisfied: google-auth<3,>=1.6.3 in /usr/local/lib/python3.10/dist-packages (from tensorboard<2.16,>=2.15->tensorflow>=2.2->coral-ordinal==0.1.9.dev0) (2.27.0)\n",
            "Requirement already satisfied: google-auth-oauthlib<2,>=0.5 in /usr/local/lib/python3.10/dist-packages (from tensorboard<2.16,>=2.15->tensorflow>=2.2->coral-ordinal==0.1.9.dev0) (1.2.0)\n",
            "Requirement already satisfied: markdown>=2.6.8 in /usr/local/lib/python3.10/dist-packages (from tensorboard<2.16,>=2.15->tensorflow>=2.2->coral-ordinal==0.1.9.dev0) (3.6)\n",
            "Requirement already satisfied: requests<3,>=2.21.0 in /usr/local/lib/python3.10/dist-packages (from tensorboard<2.16,>=2.15->tensorflow>=2.2->coral-ordinal==0.1.9.dev0) (2.31.0)\n",
            "Requirement already satisfied: tensorboard-data-server<0.8.0,>=0.7.0 in /usr/local/lib/python3.10/dist-packages (from tensorboard<2.16,>=2.15->tensorflow>=2.2->coral-ordinal==0.1.9.dev0) (0.7.2)\n",
            "Requirement already satisfied: werkzeug>=1.0.1 in /usr/local/lib/python3.10/dist-packages (from tensorboard<2.16,>=2.15->tensorflow>=2.2->coral-ordinal==0.1.9.dev0) (3.0.3)\n",
            "Requirement already satisfied: cachetools<6.0,>=2.0.0 in /usr/local/lib/python3.10/dist-packages (from google-auth<3,>=1.6.3->tensorboard<2.16,>=2.15->tensorflow>=2.2->coral-ordinal==0.1.9.dev0) (5.3.3)\n",
            "Requirement already satisfied: pyasn1-modules>=0.2.1 in /usr/local/lib/python3.10/dist-packages (from google-auth<3,>=1.6.3->tensorboard<2.16,>=2.15->tensorflow>=2.2->coral-ordinal==0.1.9.dev0) (0.4.0)\n",
            "Requirement already satisfied: rsa<5,>=3.1.4 in /usr/local/lib/python3.10/dist-packages (from google-auth<3,>=1.6.3->tensorboard<2.16,>=2.15->tensorflow>=2.2->coral-ordinal==0.1.9.dev0) (4.9)\n",
            "Requirement already satisfied: requests-oauthlib>=0.7.0 in /usr/local/lib/python3.10/dist-packages (from google-auth-oauthlib<2,>=0.5->tensorboard<2.16,>=2.15->tensorflow>=2.2->coral-ordinal==0.1.9.dev0) (1.3.1)\n",
            "Requirement already satisfied: charset-normalizer<4,>=2 in /usr/local/lib/python3.10/dist-packages (from requests<3,>=2.21.0->tensorboard<2.16,>=2.15->tensorflow>=2.2->coral-ordinal==0.1.9.dev0) (3.3.2)\n",
            "Requirement already satisfied: idna<4,>=2.5 in /usr/local/lib/python3.10/dist-packages (from requests<3,>=2.21.0->tensorboard<2.16,>=2.15->tensorflow>=2.2->coral-ordinal==0.1.9.dev0) (3.7)\n",
            "Requirement already satisfied: urllib3<3,>=1.21.1 in /usr/local/lib/python3.10/dist-packages (from requests<3,>=2.21.0->tensorboard<2.16,>=2.15->tensorflow>=2.2->coral-ordinal==0.1.9.dev0) (2.0.7)\n",
            "Requirement already satisfied: certifi>=2017.4.17 in /usr/local/lib/python3.10/dist-packages (from requests<3,>=2.21.0->tensorboard<2.16,>=2.15->tensorflow>=2.2->coral-ordinal==0.1.9.dev0) (2024.2.2)\n",
            "Requirement already satisfied: MarkupSafe>=2.1.1 in /usr/local/lib/python3.10/dist-packages (from werkzeug>=1.0.1->tensorboard<2.16,>=2.15->tensorflow>=2.2->coral-ordinal==0.1.9.dev0) (2.1.5)\n",
            "Requirement already satisfied: pyasn1<0.7.0,>=0.4.6 in /usr/local/lib/python3.10/dist-packages (from pyasn1-modules>=0.2.1->google-auth<3,>=1.6.3->tensorboard<2.16,>=2.15->tensorflow>=2.2->coral-ordinal==0.1.9.dev0) (0.6.0)\n",
            "Requirement already satisfied: oauthlib>=3.0.0 in /usr/local/lib/python3.10/dist-packages (from requests-oauthlib>=0.7.0->google-auth-oauthlib<2,>=0.5->tensorboard<2.16,>=2.15->tensorflow>=2.2->coral-ordinal==0.1.9.dev0) (3.2.2)\n",
            "Building wheels for collected packages: coral-ordinal\n",
            "  Building wheel for coral-ordinal (setup.py) ... \u001b[?25l\u001b[?25hdone\n",
            "  Created wheel for coral-ordinal: filename=coral_ordinal-0.1.9.dev0-py3-none-any.whl size=14591 sha256=419482d46afa07f23c1bf5b7328a8e8633e11fcf61bc7a9a0714ed3ac3f78f43\n",
            "  Stored in directory: /tmp/pip-ephem-wheel-cache-5ltdeefx/wheels/85/68/e8/f57f5696d75898becfbda71caf87c581d3a44fa4a2280cd45b\n",
            "Successfully built coral-ordinal\n",
            "Installing collected packages: coral-ordinal\n",
            "Successfully installed coral-ordinal-0.1.9.dev0\n"
          ]
        }
      ],
      "source": [
        "!pip install git+https://github.com/ck37/coral-ordinal/"
      ]
    },
    {
      "cell_type": "code",
      "execution_count": 12,
      "metadata": {
        "id": "3hq5ZwoXxte5"
      },
      "outputs": [],
      "source": [
        "import coral_ordinal as coral"
      ]
    },
    {
      "cell_type": "code",
      "execution_count": 13,
      "metadata": {
        "id": "YOY2-mZHds-0"
      },
      "outputs": [],
      "source": [
        "import tensorflow as tf\n",
        "\n",
        "def corn_loss(y_train, y_pred):\n",
        "    y_train = tf.cast(y_train, tf.int32)\n",
        "    num_classes = tf.shape(y_pred)[1]\n",
        "    # tf.print(y_pred)\n",
        "    loss = -tf.reduce_sum(tf.one_hot(y_train - 1, num_classes, dtype=tf.float32) * tf.math.log(y_pred + 1e-8))\n",
        "    return loss"
      ]
    },
    {
      "cell_type": "code",
      "execution_count": 14,
      "metadata": {
        "colab": {
          "base_uri": "https://localhost:8080/"
        },
        "id": "XVqHEjegd9kZ",
        "outputId": "d6cb0017-5896-4748-93e3-300328f0c211"
      },
      "outputs": [
        {
          "output_type": "stream",
          "name": "stdout",
          "text": [
            "Epoch 1/50\n",
            "49/49 [==============================] - 4s 22ms/step - loss: 13.1913 - mean_absolute_error_labels: 7.4392 - val_loss: 12.5406 - val_mean_absolute_error_labels: 4.3410\n",
            "Epoch 2/50\n",
            "49/49 [==============================] - 0s 9ms/step - loss: 12.4908 - mean_absolute_error_labels: 4.7216 - val_loss: 12.1130 - val_mean_absolute_error_labels: 4.7847\n",
            "Epoch 3/50\n",
            "49/49 [==============================] - 0s 7ms/step - loss: 11.9664 - mean_absolute_error_labels: 6.4925 - val_loss: 11.7671 - val_mean_absolute_error_labels: 6.7722\n",
            "Epoch 4/50\n",
            "49/49 [==============================] - 0s 6ms/step - loss: 11.6588 - mean_absolute_error_labels: 6.2181 - val_loss: 11.4269 - val_mean_absolute_error_labels: 6.3208\n",
            "Epoch 5/50\n",
            "49/49 [==============================] - 1s 11ms/step - loss: 11.3956 - mean_absolute_error_labels: 5.9281 - val_loss: 11.1894 - val_mean_absolute_error_labels: 5.7722\n",
            "Epoch 6/50\n",
            "49/49 [==============================] - 1s 11ms/step - loss: 11.2116 - mean_absolute_error_labels: 5.5391 - val_loss: 11.0693 - val_mean_absolute_error_labels: 5.4549\n",
            "Epoch 7/50\n",
            "49/49 [==============================] - 0s 10ms/step - loss: 11.0171 - mean_absolute_error_labels: 5.3676 - val_loss: 10.7931 - val_mean_absolute_error_labels: 5.3882\n",
            "Epoch 8/50\n",
            "49/49 [==============================] - 1s 10ms/step - loss: 10.8101 - mean_absolute_error_labels: 5.3072 - val_loss: 10.6251 - val_mean_absolute_error_labels: 5.0104\n",
            "Epoch 9/50\n",
            "49/49 [==============================] - 1s 14ms/step - loss: 10.6167 - mean_absolute_error_labels: 4.9901 - val_loss: 10.4818 - val_mean_absolute_error_labels: 5.1021\n",
            "Epoch 10/50\n",
            "49/49 [==============================] - 1s 12ms/step - loss: 10.4879 - mean_absolute_error_labels: 4.8821 - val_loss: 10.3508 - val_mean_absolute_error_labels: 4.4639\n",
            "Epoch 11/50\n",
            "49/49 [==============================] - 1s 11ms/step - loss: 10.3119 - mean_absolute_error_labels: 4.6838 - val_loss: 10.1522 - val_mean_absolute_error_labels: 4.6187\n",
            "Epoch 12/50\n",
            "49/49 [==============================] - 0s 10ms/step - loss: 10.1751 - mean_absolute_error_labels: 4.5644 - val_loss: 10.0302 - val_mean_absolute_error_labels: 4.6097\n",
            "Epoch 13/50\n",
            "49/49 [==============================] - 1s 18ms/step - loss: 10.0511 - mean_absolute_error_labels: 4.5326 - val_loss: 9.9897 - val_mean_absolute_error_labels: 4.2264\n",
            "Epoch 14/50\n",
            "49/49 [==============================] - 1s 11ms/step - loss: 9.9464 - mean_absolute_error_labels: 4.3519 - val_loss: 9.7898 - val_mean_absolute_error_labels: 4.0750\n",
            "Epoch 15/50\n",
            "49/49 [==============================] - 0s 10ms/step - loss: 9.8103 - mean_absolute_error_labels: 4.2530 - val_loss: 9.6593 - val_mean_absolute_error_labels: 3.9799\n",
            "Epoch 16/50\n",
            "49/49 [==============================] - 0s 7ms/step - loss: 9.6905 - mean_absolute_error_labels: 4.1467 - val_loss: 9.5500 - val_mean_absolute_error_labels: 4.0361\n",
            "Epoch 17/50\n",
            "49/49 [==============================] - 0s 7ms/step - loss: 9.6020 - mean_absolute_error_labels: 3.9725 - val_loss: 9.4680 - val_mean_absolute_error_labels: 4.0104\n",
            "Epoch 18/50\n",
            "49/49 [==============================] - 0s 10ms/step - loss: 9.4992 - mean_absolute_error_labels: 3.9483 - val_loss: 9.4259 - val_mean_absolute_error_labels: 4.0972\n",
            "Epoch 19/50\n",
            "49/49 [==============================] - 1s 12ms/step - loss: 9.4035 - mean_absolute_error_labels: 3.9775 - val_loss: 9.2705 - val_mean_absolute_error_labels: 3.5312\n",
            "Epoch 20/50\n",
            "49/49 [==============================] - 0s 9ms/step - loss: 9.3049 - mean_absolute_error_labels: 3.8083 - val_loss: 9.2829 - val_mean_absolute_error_labels: 3.8687\n",
            "Epoch 21/50\n",
            "49/49 [==============================] - 0s 7ms/step - loss: 9.2602 - mean_absolute_error_labels: 3.8051 - val_loss: 9.1408 - val_mean_absolute_error_labels: 3.5944\n",
            "Epoch 22/50\n",
            "49/49 [==============================] - 0s 9ms/step - loss: 9.1591 - mean_absolute_error_labels: 3.6866 - val_loss: 9.0578 - val_mean_absolute_error_labels: 3.6868\n",
            "Epoch 23/50\n",
            "49/49 [==============================] - 0s 8ms/step - loss: 9.0753 - mean_absolute_error_labels: 3.6979 - val_loss: 8.9959 - val_mean_absolute_error_labels: 3.7465\n",
            "Epoch 24/50\n",
            "49/49 [==============================] - 0s 8ms/step - loss: 9.0193 - mean_absolute_error_labels: 3.7172 - val_loss: 8.8758 - val_mean_absolute_error_labels: 3.3674\n",
            "Epoch 25/50\n",
            "49/49 [==============================] - 0s 7ms/step - loss: 8.9525 - mean_absolute_error_labels: 3.5719 - val_loss: 8.8466 - val_mean_absolute_error_labels: 3.5340\n",
            "Epoch 26/50\n",
            "49/49 [==============================] - 0s 7ms/step - loss: 8.9027 - mean_absolute_error_labels: 3.5908 - val_loss: 8.8274 - val_mean_absolute_error_labels: 3.5222\n",
            "Epoch 27/50\n",
            "49/49 [==============================] - 0s 6ms/step - loss: 8.8481 - mean_absolute_error_labels: 3.5333 - val_loss: 8.8713 - val_mean_absolute_error_labels: 3.5813\n",
            "Epoch 28/50\n",
            "49/49 [==============================] - 1s 11ms/step - loss: 8.7357 - mean_absolute_error_labels: 3.5225 - val_loss: 8.7389 - val_mean_absolute_error_labels: 3.5424\n",
            "Epoch 29/50\n",
            "49/49 [==============================] - 0s 7ms/step - loss: 8.7425 - mean_absolute_error_labels: 3.5882 - val_loss: 8.6188 - val_mean_absolute_error_labels: 3.3458\n",
            "Epoch 30/50\n",
            "49/49 [==============================] - 0s 8ms/step - loss: 8.6975 - mean_absolute_error_labels: 3.5245 - val_loss: 8.5901 - val_mean_absolute_error_labels: 3.3722\n",
            "Epoch 31/50\n",
            "49/49 [==============================] - 0s 7ms/step - loss: 8.6366 - mean_absolute_error_labels: 3.4848 - val_loss: 8.5476 - val_mean_absolute_error_labels: 3.3667\n",
            "Epoch 32/50\n",
            "49/49 [==============================] - 0s 9ms/step - loss: 8.5656 - mean_absolute_error_labels: 3.4539 - val_loss: 8.5555 - val_mean_absolute_error_labels: 3.4333\n",
            "Epoch 33/50\n",
            "49/49 [==============================] - 0s 6ms/step - loss: 8.5506 - mean_absolute_error_labels: 3.4917 - val_loss: 8.4746 - val_mean_absolute_error_labels: 3.4056\n",
            "Epoch 34/50\n",
            "49/49 [==============================] - 0s 7ms/step - loss: 8.5189 - mean_absolute_error_labels: 3.4466 - val_loss: 8.4264 - val_mean_absolute_error_labels: 3.4389\n",
            "Epoch 35/50\n",
            "49/49 [==============================] - 0s 8ms/step - loss: 8.4992 - mean_absolute_error_labels: 3.4514 - val_loss: 8.4882 - val_mean_absolute_error_labels: 3.4507\n",
            "Epoch 36/50\n",
            "49/49 [==============================] - 0s 9ms/step - loss: 8.4347 - mean_absolute_error_labels: 3.4888 - val_loss: 8.4185 - val_mean_absolute_error_labels: 3.4514\n",
            "Epoch 37/50\n",
            "49/49 [==============================] - 1s 12ms/step - loss: 8.3631 - mean_absolute_error_labels: 3.4068 - val_loss: 8.3552 - val_mean_absolute_error_labels: 3.3986\n",
            "Epoch 38/50\n",
            "49/49 [==============================] - 0s 8ms/step - loss: 8.3485 - mean_absolute_error_labels: 3.4233 - val_loss: 8.3064 - val_mean_absolute_error_labels: 3.4139\n",
            "Epoch 39/50\n",
            "49/49 [==============================] - 0s 6ms/step - loss: 8.3430 - mean_absolute_error_labels: 3.4381 - val_loss: 8.2878 - val_mean_absolute_error_labels: 3.3826\n",
            "Epoch 40/50\n",
            "49/49 [==============================] - 0s 9ms/step - loss: 8.2644 - mean_absolute_error_labels: 3.3849 - val_loss: 8.2593 - val_mean_absolute_error_labels: 3.3757\n",
            "Epoch 41/50\n",
            "49/49 [==============================] - 1s 10ms/step - loss: 8.2687 - mean_absolute_error_labels: 3.4168 - val_loss: 8.2852 - val_mean_absolute_error_labels: 3.4618\n",
            "Epoch 42/50\n",
            "49/49 [==============================] - 1s 15ms/step - loss: 8.2073 - mean_absolute_error_labels: 3.3636 - val_loss: 8.2558 - val_mean_absolute_error_labels: 3.3972\n",
            "Epoch 43/50\n",
            "49/49 [==============================] - 1s 18ms/step - loss: 8.1714 - mean_absolute_error_labels: 3.3879 - val_loss: 8.2034 - val_mean_absolute_error_labels: 3.3812\n",
            "Epoch 44/50\n",
            "49/49 [==============================] - 1s 20ms/step - loss: 8.1583 - mean_absolute_error_labels: 3.3699 - val_loss: 8.1960 - val_mean_absolute_error_labels: 3.4486\n",
            "Epoch 45/50\n",
            "49/49 [==============================] - 1s 22ms/step - loss: 8.1435 - mean_absolute_error_labels: 3.4108 - val_loss: 8.1466 - val_mean_absolute_error_labels: 3.4396\n",
            "Epoch 46/50\n",
            "49/49 [==============================] - 1s 19ms/step - loss: 8.1135 - mean_absolute_error_labels: 3.4251 - val_loss: 8.1572 - val_mean_absolute_error_labels: 3.3597\n",
            "Epoch 47/50\n",
            "49/49 [==============================] - 1s 20ms/step - loss: 8.1150 - mean_absolute_error_labels: 3.4174 - val_loss: 8.1458 - val_mean_absolute_error_labels: 3.4271\n",
            "Epoch 48/50\n",
            "49/49 [==============================] - 1s 13ms/step - loss: 8.1042 - mean_absolute_error_labels: 3.3991 - val_loss: 8.1062 - val_mean_absolute_error_labels: 3.3694\n",
            "Epoch 49/50\n",
            "49/49 [==============================] - 1s 12ms/step - loss: 8.0787 - mean_absolute_error_labels: 3.3800 - val_loss: 8.0916 - val_mean_absolute_error_labels: 3.3965\n",
            "Epoch 50/50\n",
            "49/49 [==============================] - 0s 9ms/step - loss: 8.0564 - mean_absolute_error_labels: 3.3597 - val_loss: 8.1269 - val_mean_absolute_error_labels: 3.5417\n",
            "15/15 [==============================] - 0s 7ms/step - loss: 7.9732 - mean_absolute_error_labels: 3.3563\n",
            "Test Mean Absolute Error: 3.356250047683716\n"
          ]
        }
      ],
      "source": [
        "model_regression = Sequential([\n",
        "    Dense(128, activation='relu', input_shape=(X_train.shape[1],)),\n",
        "     Dropout(0.2),\n",
        "    Dense(64, activation='relu'),\n",
        "    Dense(16, activation='relu'),\n",
        "    Dense(32, activation='relu'),\n",
        "    Dense(9, activation='relu'),\n",
        "    # ,Dense(21, activation='softmax')\n",
        "])\n",
        "\n",
        "optimizer = Adam(learning_rate=0.0012)\n",
        "\n",
        "# model_regression.compile(optimizer=optimizer, loss=corn_loss, metrics=['mean_absolute_error'])\n",
        "model_regression.add(coral.CoralOrdinal(num_classes = 21))\n",
        "model_regression.compile(optimizer=optimizer, loss = coral.OrdinalCrossEntropy(), metrics = [coral.MeanAbsoluteErrorLabels()])\n",
        "\n",
        "early_stopping = EarlyStopping(monitor='val_loss', patience=10, restore_best_weights=True)\n",
        "\n",
        "history = model_regression.fit(X_train_scaled, y_train - 1, epochs=50, batch_size=32,\n",
        "                    validation_split=0.15, callbacks=[early_stopping])\n",
        "\n",
        "loss, mae = model_regression.evaluate(X_test_scaled, y_test - 1)\n",
        "print(f'Test Mean Absolute Error: {mae}')"
      ]
    },
    {
      "cell_type": "code",
      "source": [],
      "metadata": {
        "colab": {
          "base_uri": "https://localhost:8080/"
        },
        "id": "9qCP37AsRd98",
        "outputId": "692721d6-be80-4e25-d920-1089a9248243"
      },
      "execution_count": 17,
      "outputs": [
        {
          "output_type": "stream",
          "name": "stdout",
          "text": [
            "<keras.src.callbacks.History object at 0x7e27ec500160>\n"
          ]
        }
      ]
    },
    {
      "cell_type": "code",
      "execution_count": 19,
      "metadata": {
        "colab": {
          "base_uri": "https://localhost:8080/",
          "height": 507
        },
        "id": "S1TMtwGwfgnN",
        "outputId": "440c5b4e-cd50-4863-b1af-851faea9b83f"
      },
      "outputs": [
        {
          "output_type": "display_data",
          "data": {
            "text/plain": [
              "<Figure size 1000x500 with 2 Axes>"
            ],
            "image/png": "[encoded data removed]"
          },
          "metadata": {}
        }
      ],
      "source": [
        "import matplotlib.pyplot as plt\n",
        "\n",
        "loss = history.history['loss']\n",
        "val_loss = history.history['val_loss']\n",
        "mae = history.history['mean_absolute_error_labels']\n",
        "val_mae = history.history['val_mean_absolute_error_labels']\n",
        "\n",
        "epochs = range(1, len(loss) + 1)\n",
        "\n",
        "plt.figure(figsize=(10, 5))\n",
        "\n",
        "plt.subplot(1, 2, 1)\n",
        "plt.plot(epochs, loss, 'bo-', label='Training Loss')\n",
        "plt.plot(epochs, val_loss, 'ro-', label='Validation Loss')\n",
        "plt.title('Training and Validation Loss')\n",
        "plt.xlabel('Epochs')\n",
        "plt.ylabel('Loss')\n",
        "plt.legend()\n",
        "\n",
        "plt.subplot(1, 2, 2)\n",
        "plt.plot(epochs, mae, 'bo-', label='Training MAE')\n",
        "plt.plot(epochs, val_mae, 'ro-', label='Validation MAE')\n",
        "plt.title('Training and Validation MAE')\n",
        "plt.xlabel('Epochs')\n",
        "plt.ylabel('MAE')\n",
        "plt.legend()\n",
        "\n",
        "plt.tight_layout()\n",
        "plt.show()"
      ]
    },
    {
      "cell_type": "code",
      "execution_count": null,
      "metadata": {
        "id": "Hj6Q6O2m7cId"
      },
      "outputs": [],
      "source": []
    }
  ],
  "metadata": {
    "colab": {
      "provenance": []
    },
    "kernelspec": {
      "display_name": "Python 3",
      "name": "python3"
    },
    "language_info": {
      "name": "python"
    }
  },
  "nbformat": 4,
  "nbformat_minor": 0
}